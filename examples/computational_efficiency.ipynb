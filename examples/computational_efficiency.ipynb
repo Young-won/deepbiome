{
 "cells": [
  {
   "cell_type": "code",
   "execution_count": 1,
   "metadata": {
    "collapsed": true
   },
   "outputs": [],
   "source": [
    "import os\n",
    "import json\n",
    "import numpy as np"
   ]
  },
  {
   "cell_type": "code",
   "execution_count": 31,
   "metadata": {},
   "outputs": [
    {
     "name": "stdout",
     "output_type": "stream",
     "text": [
      "deepbiome: 290.238 (69.367)\n"
     ]
    }
   ],
   "source": [
    "deepbiome_file_paths = ['examples/simulation_s0/simulation_s0_deepbiome/log/log_20191027.log',\n",
    "                        'examples/simulation_s1/simulation_s1_deepbiome/log/log_20191027.log',\n",
    "                        'examples/simulation_s2/simulation_s2_deepbiome/log/log_20191027.log',\n",
    "                        'examples/simulation_s3/simulation_s3_deepbiome/log/log_20191027.log',\n",
    "                        'examples/simulation_s4/simulation_s4_deepbiome/log/log_20191027.log',\n",
    "                        'examples/simulation_s5/simulation_s5_deepbiome/log/log_20191027.log'\n",
    "                       ]\n",
    "deepbiome_times = []\n",
    "for file_path in deepbiome_file_paths:\n",
    "    with open(file_path) as f:\n",
    "        lines = f.readlines()\n",
    "    deepbiome_times.append(np.array([line.split(':')[-1].strip() for line in lines if 'Compute time' in line], dtype=np.float))\n",
    "deepbiome_times = np.array(deepbiome_times)\n",
    "print('deepbiome: %.3f (%.3f)' % (np.mean(np.concatenate(deepbiome_times)), np.std(np.concatenate(deepbiome_times))))"
   ]
  },
  {
   "cell_type": "code",
   "execution_count": 32,
   "metadata": {},
   "outputs": [
    {
     "name": "stdout",
     "output_type": "stream",
     "text": [
      "deep: 282.978 (67.758)\n"
     ]
    }
   ],
   "source": [
    "deep_file_paths = ['examples/simulation_s0/simulation_s0_deep/log/log_20191027.log',\n",
    "                        'examples/simulation_s1/simulation_s1_deep/log/log_20191027.log',\n",
    "                        'examples/simulation_s2/simulation_s2_deep/log/log_20191027.log',\n",
    "                        'examples/simulation_s3/simulation_s3_deep/log/log_20191027.log',\n",
    "                        'examples/simulation_s4/simulation_s4_deep/log/log_20191027.log',\n",
    "                        'examples/simulation_s5/simulation_s5_deep/log/log_20191027.log'\n",
    "                       ]\n",
    "deep_times = []\n",
    "for file_path in deep_file_paths:\n",
    "    with open(file_path) as f:\n",
    "        lines = f.readlines()\n",
    "    deep_times.append(np.array([line.split(':')[-1].strip() for line in lines if 'Compute time' in line], dtype=np.float))\n",
    "deep_times = np.array(deep_times)\n",
    "print('deep: %.3f (%.3f)' % (np.mean(np.concatenate(deep_times)), np.std(np.concatenate(deep_times))))"
   ]
  },
  {
   "cell_type": "code",
   "execution_count": 34,
   "metadata": {},
   "outputs": [
    {
     "name": "stdout",
     "output_type": "stream",
     "text": [
      "deep l1: 282.179 (67.051)\n"
     ]
    }
   ],
   "source": [
    "deep_l1_file_paths = ['examples/simulation_s0/simulation_s0_deep_l1/log/log_20191027.log',\n",
    "                        'examples/simulation_s1/simulation_s1_deep_l1/log/log_20191027.log',\n",
    "                        'examples/simulation_s2/simulation_s2_deep_l1/log/log_20191027.log',\n",
    "                        'examples/simulation_s3/simulation_s3_deep_l1/log/log_20191027.log',\n",
    "                        'examples/simulation_s4/simulation_s4_deep_l1/log/log_20191027.log',\n",
    "                        'examples/simulation_s5/simulation_s5_deep_l1/log/log_20191027.log'\n",
    "                       ]\n",
    "deep_l1_times = []\n",
    "for file_path in deep_l1_file_paths:\n",
    "    with open(file_path) as f:\n",
    "        lines = f.readlines()\n",
    "    deep_l1_times.append(np.array([line.split(':')[-1].strip() for line in lines if 'Compute time' in line], dtype=np.float))\n",
    "deep_l1_times = np.array(deep_l1_times)\n",
    "print('deep l1: %.3f (%.3f)' % (np.mean(np.concatenate(deep_l1_times)), np.std(np.concatenate(deep_l1_times))))"
   ]
  }
 ],
 "metadata": {
  "kernelspec": {
   "display_name": "Python 3",
   "language": "python",
   "name": "python3"
  },
  "language_info": {
   "codemirror_mode": {
    "name": "ipython",
    "version": 3
   },
   "file_extension": ".py",
   "mimetype": "text/x-python",
   "name": "python",
   "nbconvert_exporter": "python",
   "pygments_lexer": "ipython3",
   "version": "3.5.2"
  }
 },
 "nbformat": 4,
 "nbformat_minor": 2
}
