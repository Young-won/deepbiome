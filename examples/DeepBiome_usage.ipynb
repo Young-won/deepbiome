{
 "cells": [
  {
   "cell_type": "markdown",
   "metadata": {},
   "source": [
    "# DeepBiome Usage"
   ]
  },
  {
   "cell_type": "code",
   "execution_count": 1,
   "metadata": {},
   "outputs": [
    {
     "name": "stderr",
     "output_type": "stream",
     "text": [
      "Using TensorFlow backend.\n"
     ]
    }
   ],
   "source": [
    "import logging\n",
    "from deepbiome import deepbiome"
   ]
  },
  {
   "cell_type": "markdown",
   "metadata": {},
   "source": [
    "### Arguments"
   ]
  },
  {
   "cell_type": "code",
   "execution_count": 2,
   "metadata": {
    "collapsed": true
   },
   "outputs": [],
   "source": [
    "logging.basicConfig(format = '[%(name)-8s|%(levelname)s|%(filename)s:%(lineno)s] %(message)s',\n",
    "                    level=logging.DEBUG)\n",
    "log = logging.getLogger()"
   ]
  },
  {
   "cell_type": "code",
   "execution_count": 3,
   "metadata": {
    "collapsed": true
   },
   "outputs": [],
   "source": [
    "network_info = {\n",
    "    'architecture_info': {\n",
    "        'batch_normalization': 'False',\n",
    "        'drop_out': '0',\n",
    "        'weight_initial': 'glorot_uniform',\n",
    "        'weight_l1_penalty':'0.01',\n",
    "        'weight_decay': 'phylogenetic_tree',\n",
    "    },\n",
    "    'model_info': {\n",
    "        'decay': '0.001',\n",
    "        'loss': 'binary_crossentropy',\n",
    "        'lr': '0.01',\n",
    "        'metrics': 'binary_accuracy, sensitivity, specificity, gmeasure, auc',\n",
    "        'network_class': 'DeepBiomeNetwork',\n",
    "        'normalizer': 'normalize_minmax',\n",
    "        'optimizer': 'adam',\n",
    "        'reader_class': 'MicroBiomeClassificationReader',\n",
    "        'taxa_selection_metrics': 'accuracy, sensitivity, specificity, gmeasure'\n",
    "    },\n",
    "    'training_info': {\n",
    "        'batch_size': '200', \n",
    "        'epochs': '10'\n",
    "    },\n",
    "    'validation_info': {\n",
    "        'batch_size': 'None', \n",
    "        'validation_size': '0.2'\n",
    "    },\n",
    "    'test_info': {\n",
    "        'batch_size': 'None',\n",
    "    },\n",
    "}"
   ]
  },
  {
   "cell_type": "code",
   "execution_count": 4,
   "metadata": {
    "collapsed": true
   },
   "outputs": [],
   "source": [
    "path_info = {\n",
    "    'data_info': {\n",
    "        'count_list_path': 'data/simulation/gcount_list.csv',\n",
    "        'count_path': 'data/simulation/count',\n",
    "        'data_path': 'data/simulation/s2/',\n",
    "        'idx_path': 'data/simulation/s2/idx.csv',\n",
    "        'tree_info_path': 'data/genus48/genus48_dic.csv',\n",
    "        'x_path': '',\n",
    "        'y_path': 'y.csv'\n",
    "    },\n",
    "    'model_info': {\n",
    "        'evaluation': 'eval.npy',\n",
    "        'history': 'history/hist.json',\n",
    "        'model_dir': './simulation_s2/simulation_s2_deepbiome/',\n",
    "        'weight': 'weight/weight.h5'\n",
    "    }\n",
    "}"
   ]
  },
  {
   "cell_type": "markdown",
   "metadata": {},
   "source": [
    "## Deepbiome Training"
   ]
  },
  {
   "cell_type": "code",
   "execution_count": 5,
   "metadata": {
    "scrolled": true
   },
   "outputs": [
    {
     "name": "stderr",
     "output_type": "stream",
     "text": [
      "[root    |INFO|deepbiome.py:100] -----------------------------------------------------------------\n",
      "[root    |INFO|deepbiome.py:137] -------1 simulation start!----------------------------------\n",
      "[root    |INFO|readers.py:58] -----------------------------------------------------------------------\n",
      "[root    |INFO|readers.py:59] Construct Dataset\n",
      "[root    |INFO|readers.py:60] -----------------------------------------------------------------------\n",
      "[root    |INFO|readers.py:61] Load data\n",
      "[root    |INFO|deepbiome.py:147] -----------------------------------------------------------------\n",
      "[root    |INFO|deepbiome.py:148] Build network for 1 simulation\n",
      "[root    |INFO|build_network.py:505] ------------------------------------------------------------------------------------------\n",
      "[root    |INFO|build_network.py:506] Read phylogenetic tree information from data/genus48/genus48_dic.csv\n",
      "[root    |INFO|build_network.py:510] Phylogenetic tree level list: ['Genus', 'Family', 'Order', 'Class', 'Phylum']\n",
      "[root    |INFO|build_network.py:511] ------------------------------------------------------------------------------------------\n",
      "[root    |INFO|build_network.py:518]      Genus: 48\n",
      "[root    |INFO|build_network.py:518]     Family: 40\n",
      "[root    |INFO|build_network.py:518]      Order: 23\n",
      "[root    |INFO|build_network.py:518]      Class: 17\n",
      "[root    |INFO|build_network.py:518]     Phylum: 9\n",
      "[root    |INFO|build_network.py:521] ------------------------------------------------------------------------------------------\n",
      "[root    |INFO|build_network.py:522] Phylogenetic_tree_dict info: ['Genus', 'Number', 'Family', 'Order', 'Phylum', 'Class']\n",
      "[root    |INFO|build_network.py:523] ------------------------------------------------------------------------------------------\n",
      "[root    |INFO|build_network.py:533] Build edge weights between [ Genus, Family]\n",
      "[root    |INFO|build_network.py:533] Build edge weights between [Family,  Order]\n",
      "[root    |INFO|build_network.py:533] Build edge weights between [ Order,  Class]\n",
      "[root    |INFO|build_network.py:533] Build edge weights between [ Class, Phylum]\n",
      "[root    |INFO|build_network.py:546] ------------------------------------------------------------------------------------------\n",
      "[root    |INFO|build_network.py:562] ------------------------------------------------------------------------------------------\n",
      "[root    |INFO|build_network.py:563] Build network based on phylogenetic tree information\n",
      "[root    |INFO|build_network.py:564] ------------------------------------------------------------------------------------------\n"
     ]
    },
    {
     "name": "stdout",
     "output_type": "stream",
     "text": [
      "WARNING:tensorflow:From /usr/local/lib/python3.5/dist-packages/tensorflow/python/ops/resource_variable_ops.py:432: colocate_with (from tensorflow.python.framework.ops) is deprecated and will be removed in a future version.\n",
      "Instructions for updating:\n",
      "Colocations handled automatically by placer.\n"
     ]
    },
    {
     "name": "stderr",
     "output_type": "stream",
     "text": [
      "[tensorflow|WARNING|deprecation.py:328] From /usr/local/lib/python3.5/dist-packages/tensorflow/python/ops/resource_variable_ops.py:432: colocate_with (from tensorflow.python.framework.ops) is deprecated and will be removed in a future version.\n",
      "Instructions for updating:\n",
      "Colocations handled automatically by placer.\n",
      "[root    |INFO|build_network.py:640] ------------------------------------------------------------------------------------------\n"
     ]
    },
    {
     "name": "stdout",
     "output_type": "stream",
     "text": [
      "Model: \"model_1\"\n",
      "_________________________________________________________________\n",
      "Layer (type)                 Output Shape              Param #   \n",
      "=================================================================\n",
      "input (InputLayer)           (None, 48)                0         \n",
      "_________________________________________________________________\n",
      "l1_dense (Dense_with_tree)   (None, 40)                1960      \n",
      "_________________________________________________________________\n",
      "l1_activation (Activation)   (None, 40)                0         \n",
      "_________________________________________________________________\n",
      "l2_dense (Dense_with_tree)   (None, 23)                943       \n",
      "_________________________________________________________________\n",
      "l2_activation (Activation)   (None, 23)                0         \n",
      "_________________________________________________________________\n",
      "l3_dense (Dense_with_tree)   (None, 17)                408       \n",
      "_________________________________________________________________\n",
      "l3_activation (Activation)   (None, 17)                0         \n",
      "_________________________________________________________________\n",
      "l4_dense (Dense_with_tree)   (None, 9)                 162       \n",
      "_________________________________________________________________\n",
      "l4_activation (Activation)   (None, 9)                 0         \n",
      "_________________________________________________________________\n",
      "last_dense_h (Dense)         (None, 1)                 10        \n",
      "_________________________________________________________________\n",
      "p_hat (Activation)           (None, 1)                 0         \n",
      "=================================================================\n",
      "Total params: 3,483\n",
      "Trainable params: 3,483\n",
      "Non-trainable params: 0\n",
      "_________________________________________________________________\n"
     ]
    },
    {
     "name": "stderr",
     "output_type": "stream",
     "text": [
      "[root    |INFO|build_network.py:57] Build Network\n",
      "[root    |INFO|build_network.py:58] Optimizer = adam\n",
      "[root    |INFO|build_network.py:59] Loss = binary_crossentropy\n",
      "[root    |INFO|build_network.py:60] Metrics = binary_accuracy, sensitivity, specificity, gmeasure, auc\n",
      "[root    |INFO|deepbiome.py:157] -----------------------------------------------------------------\n",
      "[root    |INFO|deepbiome.py:158] 1 fold computing start!----------------------------------\n",
      "[root    |INFO|build_network.py:133] Training start!\n"
     ]
    },
    {
     "name": "stdout",
     "output_type": "stream",
     "text": [
      "WARNING:tensorflow:From /usr/local/lib/python3.5/dist-packages/tensorflow/python/ops/math_ops.py:2862: to_int32 (from tensorflow.python.ops.math_ops) is deprecated and will be removed in a future version.\n",
      "Instructions for updating:\n",
      "Use tf.cast instead.\n"
     ]
    },
    {
     "name": "stderr",
     "output_type": "stream",
     "text": [
      "[tensorflow|WARNING|deprecation.py:328] From /usr/local/lib/python3.5/dist-packages/tensorflow/python/ops/math_ops.py:2862: to_int32 (from tensorflow.python.ops.math_ops) is deprecated and will be removed in a future version.\n",
      "Instructions for updating:\n",
      "Use tf.cast instead.\n"
     ]
    },
    {
     "name": "stdout",
     "output_type": "stream",
     "text": [
      "Train on 600 samples, validate on 150 samples\n",
      "Epoch 1/10\n",
      "600/600 [==============================] - 1s 1ms/step - loss: 0.6885 - binary_accuracy: 0.6067 - sensitivity: 0.7475 - specificity: 0.2500 - gmeasure: 0.1421 - auc: 0.5686 - val_loss: 0.6794 - val_binary_accuracy: 0.7000 - val_sensitivity: 1.0000 - val_specificity: 0.0000e+00 - val_gmeasure: 0.0000e+00 - val_auc: 0.5431\n",
      "Epoch 2/10\n",
      "600/600 [==============================] - 0s 56us/step - loss: 0.6751 - binary_accuracy: 0.6883 - sensitivity: 1.0000 - specificity: 0.0000e+00 - gmeasure: 0.0000e+00 - auc: 0.5663 - val_loss: 0.6640 - val_binary_accuracy: 0.7000 - val_sensitivity: 1.0000 - val_specificity: 0.0000e+00 - val_gmeasure: 0.0000e+00 - val_auc: 0.5218\n",
      "Epoch 3/10\n",
      "600/600 [==============================] - 0s 61us/step - loss: 0.6614 - binary_accuracy: 0.6883 - sensitivity: 1.0000 - specificity: 0.0000e+00 - gmeasure: 0.0000e+00 - auc: 0.5641 - val_loss: 0.6488 - val_binary_accuracy: 0.7000 - val_sensitivity: 1.0000 - val_specificity: 0.0000e+00 - val_gmeasure: 0.0000e+00 - val_auc: 0.5047\n",
      "Epoch 4/10\n",
      "600/600 [==============================] - 0s 65us/step - loss: 0.6487 - binary_accuracy: 0.6883 - sensitivity: 1.0000 - specificity: 0.0000e+00 - gmeasure: 0.0000e+00 - auc: 0.5724 - val_loss: 0.6349 - val_binary_accuracy: 0.7000 - val_sensitivity: 1.0000 - val_specificity: 0.0000e+00 - val_gmeasure: 0.0000e+00 - val_auc: 0.4914\n",
      "Epoch 5/10\n",
      "600/600 [==============================] - 0s 60us/step - loss: 0.6358 - binary_accuracy: 0.6883 - sensitivity: 1.0000 - specificity: 0.0000e+00 - gmeasure: 0.0000e+00 - auc: 0.5756 - val_loss: 0.6236 - val_binary_accuracy: 0.7000 - val_sensitivity: 1.0000 - val_specificity: 0.0000e+00 - val_gmeasure: 0.0000e+00 - val_auc: 0.5041\n",
      "Epoch 6/10\n",
      "600/600 [==============================] - 0s 64us/step - loss: 0.6276 - binary_accuracy: 0.6883 - sensitivity: 1.0000 - specificity: 0.0000e+00 - gmeasure: 0.0000e+00 - auc: 0.5719 - val_loss: 0.6156 - val_binary_accuracy: 0.7000 - val_sensitivity: 1.0000 - val_specificity: 0.0000e+00 - val_gmeasure: 0.0000e+00 - val_auc: 0.4967\n",
      "Epoch 7/10\n",
      "600/600 [==============================] - 0s 58us/step - loss: 0.6218 - binary_accuracy: 0.6883 - sensitivity: 1.0000 - specificity: 0.0000e+00 - gmeasure: 0.0000e+00 - auc: 0.5834 - val_loss: 0.6116 - val_binary_accuracy: 0.7000 - val_sensitivity: 1.0000 - val_specificity: 0.0000e+00 - val_gmeasure: 0.0000e+00 - val_auc: 0.5028\n",
      "Epoch 8/10\n",
      "600/600 [==============================] - 0s 68us/step - loss: 0.6213 - binary_accuracy: 0.6883 - sensitivity: 1.0000 - specificity: 0.0000e+00 - gmeasure: 0.0000e+00 - auc: 0.5859 - val_loss: 0.6109 - val_binary_accuracy: 0.7000 - val_sensitivity: 1.0000 - val_specificity: 0.0000e+00 - val_gmeasure: 0.0000e+00 - val_auc: 0.5109\n",
      "Epoch 9/10\n",
      "600/600 [==============================] - 0s 68us/step - loss: 0.6215 - binary_accuracy: 0.6883 - sensitivity: 1.0000 - specificity: 0.0000e+00 - gmeasure: 0.0000e+00 - auc: 0.5947 - val_loss: 0.6116 - val_binary_accuracy: 0.7000 - val_sensitivity: 1.0000 - val_specificity: 0.0000e+00 - val_gmeasure: 0.0000e+00 - val_auc: 0.5276\n",
      "Epoch 10/10\n",
      "600/600 [==============================] - 0s 68us/step - loss: 0.6227 - binary_accuracy: 0.6883 - sensitivity: 1.0000 - specificity: 0.0000e+00 - gmeasure: 0.0000e+00 - auc: 0.6055 - val_loss: 0.6119 - val_binary_accuracy: 0.7000 - val_sensitivity: 1.0000 - val_specificity: 0.0000e+00 - val_gmeasure: 0.0000e+00 - val_auc: 0.5408\n"
     ]
    },
    {
     "name": "stderr",
     "output_type": "stream",
     "text": [
      "[root    |INFO|build_network.py:143] Training end with time 2.412959337234497!\n",
      "[root    |INFO|build_network.py:79] Saved trained model weight at ./simulation_s2/simulation_s2_deepbiome/weight/weight_0.h5 \n",
      "[root    |DEBUG|deepbiome.py:166] Save weight at ./simulation_s2/simulation_s2_deepbiome/weight/weight_0.h5\n",
      "[root    |DEBUG|deepbiome.py:169] Save history at ./simulation_s2/simulation_s2_deepbiome/history/hist_0.json\n",
      "[root    |INFO|build_network.py:169] Evaluation start!\n"
     ]
    },
    {
     "name": "stdout",
     "output_type": "stream",
     "text": [
      "\r",
      "750/750 [==============================] - 0s 8us/step\n"
     ]
    },
    {
     "name": "stderr",
     "output_type": "stream",
     "text": [
      "[root    |INFO|build_network.py:174] Evaluation end with time 0.01276254653930664!\n",
      "[root    |INFO|build_network.py:175] Evaluation: [0.6207719445228577, 0.690666675567627, 1.0, 0.0, 0.0, 0.6039766669273376]\n",
      "[root    |INFO|build_network.py:169] Evaluation start!\n"
     ]
    },
    {
     "name": "stdout",
     "output_type": "stream",
     "text": [
      "\r",
      "250/250 [==============================] - 0s 14us/step\n"
     ]
    },
    {
     "name": "stderr",
     "output_type": "stream",
     "text": [
      "[root    |INFO|build_network.py:174] Evaluation end with time 0.010287761688232422!\n",
      "[root    |INFO|build_network.py:175] Evaluation: [0.6346825957298279, 0.6759999990463257, 1.0, 0.0, 0.0, 0.537986695766449]\n",
      "[root    |INFO|deepbiome.py:179] Compute time : 5.20816969871521\n",
      "[root    |INFO|deepbiome.py:180] 1 fold computing end!---------------------------------------------\n",
      "[root    |INFO|deepbiome.py:137] -------2 simulation start!----------------------------------\n",
      "[root    |INFO|readers.py:58] -----------------------------------------------------------------------\n",
      "[root    |INFO|readers.py:59] Construct Dataset\n",
      "[root    |INFO|readers.py:60] -----------------------------------------------------------------------\n",
      "[root    |INFO|readers.py:61] Load data\n",
      "[root    |INFO|deepbiome.py:147] -----------------------------------------------------------------\n",
      "[root    |INFO|deepbiome.py:148] Build network for 2 simulation\n",
      "[root    |INFO|build_network.py:505] ------------------------------------------------------------------------------------------\n",
      "[root    |INFO|build_network.py:506] Read phylogenetic tree information from data/genus48/genus48_dic.csv\n",
      "[root    |INFO|build_network.py:510] Phylogenetic tree level list: ['Genus', 'Family', 'Order', 'Class', 'Phylum']\n",
      "[root    |INFO|build_network.py:511] ------------------------------------------------------------------------------------------\n",
      "[root    |INFO|build_network.py:518]      Genus: 48\n",
      "[root    |INFO|build_network.py:518]     Family: 40\n",
      "[root    |INFO|build_network.py:518]      Order: 23\n",
      "[root    |INFO|build_network.py:518]      Class: 17\n",
      "[root    |INFO|build_network.py:518]     Phylum: 9\n",
      "[root    |INFO|build_network.py:521] ------------------------------------------------------------------------------------------\n",
      "[root    |INFO|build_network.py:522] Phylogenetic_tree_dict info: ['Genus', 'Number', 'Family', 'Order', 'Phylum', 'Class']\n",
      "[root    |INFO|build_network.py:523] ------------------------------------------------------------------------------------------\n",
      "[root    |INFO|build_network.py:533] Build edge weights between [ Genus, Family]\n",
      "[root    |INFO|build_network.py:533] Build edge weights between [Family,  Order]\n",
      "[root    |INFO|build_network.py:533] Build edge weights between [ Order,  Class]\n",
      "[root    |INFO|build_network.py:533] Build edge weights between [ Class, Phylum]\n",
      "[root    |INFO|build_network.py:546] ------------------------------------------------------------------------------------------\n",
      "[root    |INFO|build_network.py:562] ------------------------------------------------------------------------------------------\n",
      "[root    |INFO|build_network.py:563] Build network based on phylogenetic tree information\n",
      "[root    |INFO|build_network.py:564] ------------------------------------------------------------------------------------------\n",
      "[root    |INFO|build_network.py:640] ------------------------------------------------------------------------------------------\n"
     ]
    },
    {
     "name": "stdout",
     "output_type": "stream",
     "text": [
      "Model: \"model_1\"\n",
      "_________________________________________________________________\n",
      "Layer (type)                 Output Shape              Param #   \n",
      "=================================================================\n",
      "input (InputLayer)           (None, 48)                0         \n",
      "_________________________________________________________________\n",
      "l1_dense (Dense_with_tree)   (None, 40)                1960      \n",
      "_________________________________________________________________\n",
      "l1_activation (Activation)   (None, 40)                0         \n",
      "_________________________________________________________________\n",
      "l2_dense (Dense_with_tree)   (None, 23)                943       \n",
      "_________________________________________________________________\n",
      "l2_activation (Activation)   (None, 23)                0         \n",
      "_________________________________________________________________\n",
      "l3_dense (Dense_with_tree)   (None, 17)                408       \n",
      "_________________________________________________________________\n",
      "l3_activation (Activation)   (None, 17)                0         \n",
      "_________________________________________________________________\n",
      "l4_dense (Dense_with_tree)   (None, 9)                 162       \n",
      "_________________________________________________________________\n",
      "l4_activation (Activation)   (None, 9)                 0         \n",
      "_________________________________________________________________\n",
      "last_dense_h (Dense)         (None, 1)                 10        \n",
      "_________________________________________________________________\n",
      "p_hat (Activation)           (None, 1)                 0         \n",
      "=================================================================\n",
      "Total params: 3,483\n",
      "Trainable params: 3,483\n",
      "Non-trainable params: 0\n",
      "_________________________________________________________________\n"
     ]
    },
    {
     "name": "stderr",
     "output_type": "stream",
     "text": [
      "[root    |INFO|build_network.py:57] Build Network\n",
      "[root    |INFO|build_network.py:58] Optimizer = adam\n",
      "[root    |INFO|build_network.py:59] Loss = binary_crossentropy\n",
      "[root    |INFO|build_network.py:60] Metrics = binary_accuracy, sensitivity, specificity, gmeasure, auc\n",
      "[root    |INFO|deepbiome.py:157] -----------------------------------------------------------------\n",
      "[root    |INFO|deepbiome.py:158] 2 fold computing start!----------------------------------\n",
      "[root    |INFO|build_network.py:133] Training start!\n"
     ]
    },
    {
     "name": "stdout",
     "output_type": "stream",
     "text": [
      "Train on 600 samples, validate on 150 samples\n",
      "Epoch 1/10\n",
      "600/600 [==============================] - 0s 743us/step - loss: 0.6900 - binary_accuracy: 0.5783 - sensitivity: 0.6780 - specificity: 0.3270 - gmeasure: 0.0609 - auc: 0.5126 - val_loss: 0.6836 - val_binary_accuracy: 0.7267 - val_sensitivity: 1.0000 - val_specificity: 0.0000e+00 - val_gmeasure: 0.0000e+00 - val_auc: 0.4963\n",
      "Epoch 2/10\n",
      "600/600 [==============================] - 0s 70us/step - loss: 0.6804 - binary_accuracy: 0.7283 - sensitivity: 1.0000 - specificity: 0.0000e+00 - gmeasure: 0.0000e+00 - auc: 0.4636 - val_loss: 0.6736 - val_binary_accuracy: 0.7267 - val_sensitivity: 1.0000 - val_specificity: 0.0000e+00 - val_gmeasure: 0.0000e+00 - val_auc: 0.5029\n",
      "Epoch 3/10\n",
      "600/600 [==============================] - 0s 57us/step - loss: 0.6699 - binary_accuracy: 0.7283 - sensitivity: 1.0000 - specificity: 0.0000e+00 - gmeasure: 0.0000e+00 - auc: 0.4829 - val_loss: 0.6629 - val_binary_accuracy: 0.7267 - val_sensitivity: 1.0000 - val_specificity: 0.0000e+00 - val_gmeasure: 0.0000e+00 - val_auc: 0.4984\n",
      "Epoch 4/10\n",
      "600/600 [==============================] - 0s 62us/step - loss: 0.6590 - binary_accuracy: 0.7283 - sensitivity: 1.0000 - specificity: 0.0000e+00 - gmeasure: 0.0000e+00 - auc: 0.4884 - val_loss: 0.6519 - val_binary_accuracy: 0.7267 - val_sensitivity: 1.0000 - val_specificity: 0.0000e+00 - val_gmeasure: 0.0000e+00 - val_auc: 0.4998\n",
      "Epoch 5/10\n",
      "600/600 [==============================] - 0s 66us/step - loss: 0.6481 - binary_accuracy: 0.7283 - sensitivity: 1.0000 - specificity: 0.0000e+00 - gmeasure: 0.0000e+00 - auc: 0.4865 - val_loss: 0.6406 - val_binary_accuracy: 0.7267 - val_sensitivity: 1.0000 - val_specificity: 0.0000e+00 - val_gmeasure: 0.0000e+00 - val_auc: 0.5037\n",
      "Epoch 6/10\n",
      "600/600 [==============================] - 0s 67us/step - loss: 0.6359 - binary_accuracy: 0.7283 - sensitivity: 1.0000 - specificity: 0.0000e+00 - gmeasure: 0.0000e+00 - auc: 0.4869 - val_loss: 0.6295 - val_binary_accuracy: 0.7267 - val_sensitivity: 1.0000 - val_specificity: 0.0000e+00 - val_gmeasure: 0.0000e+00 - val_auc: 0.5163\n",
      "Epoch 7/10\n",
      "600/600 [==============================] - 0s 69us/step - loss: 0.6257 - binary_accuracy: 0.7283 - sensitivity: 1.0000 - specificity: 0.0000e+00 - gmeasure: 0.0000e+00 - auc: 0.4922 - val_loss: 0.6188 - val_binary_accuracy: 0.7267 - val_sensitivity: 1.0000 - val_specificity: 0.0000e+00 - val_gmeasure: 0.0000e+00 - val_auc: 0.5337\n",
      "Epoch 8/10\n",
      "600/600 [==============================] - 0s 68us/step - loss: 0.6151 - binary_accuracy: 0.7283 - sensitivity: 1.0000 - specificity: 0.0000e+00 - gmeasure: 0.0000e+00 - auc: 0.4935 - val_loss: 0.6090 - val_binary_accuracy: 0.7267 - val_sensitivity: 1.0000 - val_specificity: 0.0000e+00 - val_gmeasure: 0.0000e+00 - val_auc: 0.5512\n",
      "Epoch 9/10\n",
      "600/600 [==============================] - 0s 66us/step - loss: 0.6054 - binary_accuracy: 0.7283 - sensitivity: 1.0000 - specificity: 0.0000e+00 - gmeasure: 0.0000e+00 - auc: 0.4964 - val_loss: 0.6005 - val_binary_accuracy: 0.7267 - val_sensitivity: 1.0000 - val_specificity: 0.0000e+00 - val_gmeasure: 0.0000e+00 - val_auc: 0.5678\n",
      "Epoch 10/10\n",
      "600/600 [==============================] - 0s 66us/step - loss: 0.5968 - binary_accuracy: 0.7283 - sensitivity: 1.0000 - specificity: 0.0000e+00 - gmeasure: 0.0000e+00 - auc: 0.4913 - val_loss: 0.5940 - val_binary_accuracy: 0.7267 - val_sensitivity: 1.0000 - val_specificity: 0.0000e+00 - val_gmeasure: 0.0000e+00 - val_auc: 0.5773\n"
     ]
    },
    {
     "name": "stderr",
     "output_type": "stream",
     "text": [
      "[root    |INFO|build_network.py:143] Training end with time 1.7508885860443115!\n",
      "[root    |INFO|build_network.py:79] Saved trained model weight at ./simulation_s2/simulation_s2_deepbiome/weight/weight_1.h5 \n",
      "[root    |DEBUG|deepbiome.py:166] Save weight at ./simulation_s2/simulation_s2_deepbiome/weight/weight_1.h5\n",
      "[root    |DEBUG|deepbiome.py:169] Save history at ./simulation_s2/simulation_s2_deepbiome/history/hist_1.json\n",
      "[root    |INFO|build_network.py:169] Evaluation start!\n"
     ]
    },
    {
     "name": "stdout",
     "output_type": "stream",
     "text": [
      "\r",
      "750/750 [==============================] - 0s 9us/step\n"
     ]
    },
    {
     "name": "stderr",
     "output_type": "stream",
     "text": [
      "[root    |INFO|build_network.py:174] Evaluation end with time 0.013937711715698242!\n",
      "[root    |INFO|build_network.py:175] Evaluation: [0.5930252075195312, 0.7279999852180481, 1.0, 0.0, 0.0, 0.5085829496383667]\n",
      "[root    |INFO|build_network.py:169] Evaluation start!\n"
     ]
    },
    {
     "name": "stdout",
     "output_type": "stream",
     "text": [
      "\r",
      "250/250 [==============================] - 0s 22us/step\n"
     ]
    },
    {
     "name": "stderr",
     "output_type": "stream",
     "text": [
      "[root    |INFO|build_network.py:174] Evaluation end with time 0.012608528137207031!\n",
      "[root    |INFO|build_network.py:175] Evaluation: [0.6157294511795044, 0.6959999799728394, 1.0, 0.0, 0.0, 0.5478675365447998]\n",
      "[root    |INFO|deepbiome.py:179] Compute time : 3.134434223175049\n",
      "[root    |INFO|deepbiome.py:180] 2 fold computing end!---------------------------------------------\n",
      "[root    |INFO|deepbiome.py:183] -----------------------------------------------------------------\n",
      "[root    |INFO|deepbiome.py:185] Train Evaluation : ['loss' 'binary_accuracy' 'sensitivity' 'specificity' 'gmeasure' 'auc']\n",
      "[root    |INFO|deepbiome.py:188]       mean : [0.60689858 0.70933333 1.         0.         0.         0.55627981]\n",
      "[root    |INFO|deepbiome.py:189]        std : [0.01387337 0.01866665 0.         0.         0.         0.04769686]\n",
      "[root    |INFO|deepbiome.py:190] -----------------------------------------------------------------\n",
      "[root    |INFO|deepbiome.py:192] Test Evaluation : ['loss' 'binary_accuracy' 'sensitivity' 'specificity' 'gmeasure' 'auc']\n",
      "[root    |INFO|deepbiome.py:195]       mean : [0.62520602 0.68599999 1.         0.         0.         0.54292712]\n",
      "[root    |INFO|deepbiome.py:196]        std : [0.00947657 0.00999999 0.         0.         0.         0.00494042]\n",
      "[root    |INFO|deepbiome.py:197] -----------------------------------------------------------------\n",
      "[root    |INFO|deepbiome.py:206] Total Computing Ended\n",
      "[root    |INFO|deepbiome.py:207] -----------------------------------------------------------------\n"
     ]
    }
   ],
   "source": [
    "test_evaluation, train_evaluation, network = deepbiome.deepbiome_train(log, network_info, path_info, number_of_fold=2)"
   ]
  },
  {
   "cell_type": "code",
   "execution_count": 6,
   "metadata": {},
   "outputs": [
    {
     "data": {
      "text/plain": [
       "array([[0.6346826 , 0.676     , 1.        , 0.        , 0.        ,\n",
       "        0.5379867 ],\n",
       "       [0.61572945, 0.69599998, 1.        , 0.        , 0.        ,\n",
       "        0.54786754]])"
      ]
     },
     "execution_count": 6,
     "metadata": {},
     "output_type": "execute_result"
    }
   ],
   "source": [
    "test_evaluation"
   ]
  }
 ],
 "metadata": {
  "kernelspec": {
   "display_name": "Python 3",
   "language": "python",
   "name": "python3"
  },
  "language_info": {
   "codemirror_mode": {
    "name": "ipython",
    "version": 3
   },
   "file_extension": ".py",
   "mimetype": "text/x-python",
   "name": "python",
   "nbconvert_exporter": "python",
   "pygments_lexer": "ipython3",
   "version": "3.5.2"
  }
 },
 "nbformat": 4,
 "nbformat_minor": 2
}
