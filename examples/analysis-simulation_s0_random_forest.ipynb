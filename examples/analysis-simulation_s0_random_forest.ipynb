{
 "cells": [
  {
   "cell_type": "markdown",
   "metadata": {},
   "source": [
    "# Simulation S0. Random Forest"
   ]
  },
  {
   "cell_type": "code",
   "execution_count": 127,
   "metadata": {},
   "outputs": [
    {
     "data": {
      "text/plain": [
       "               _                           \n",
       "platform       x86_64-pc-linux-gnu         \n",
       "arch           x86_64                      \n",
       "os             linux-gnu                   \n",
       "system         x86_64, linux-gnu           \n",
       "status                                     \n",
       "major          3                           \n",
       "minor          5.3                         \n",
       "year           2019                        \n",
       "month          03                          \n",
       "day            11                          \n",
       "svn rev        76217                       \n",
       "language       R                           \n",
       "version.string R version 3.5.3 (2019-03-11)\n",
       "nickname       Great Truth                 "
      ]
     },
     "metadata": {},
     "output_type": "display_data"
    },
    {
     "name": "stderr",
     "output_type": "stream",
     "text": [
      "randomForest 4.6-14\n",
      "\n",
      "Type rfNews() to see new features/changes/bug fixes.\n",
      "\n",
      "\n",
      "Attaching package: ‘randomForest’\n",
      "\n",
      "\n",
      "The following object is masked from ‘package:dplyr’:\n",
      "\n",
      "    combine\n",
      "\n",
      "\n",
      "The following object is masked from ‘package:ggplot2’:\n",
      "\n",
      "    margin\n",
      "\n",
      "\n"
     ]
    }
   ],
   "source": [
    "R.version\n",
    "library(tidyverse)\n",
    "library(randomForest)"
   ]
  },
  {
   "cell_type": "markdown",
   "metadata": {},
   "source": [
    "### Configuration"
   ]
  },
  {
   "cell_type": "code",
   "execution_count": 120,
   "metadata": {
    "collapsed": true
   },
   "outputs": [],
   "source": [
    "data_path = \"./data/simulation/s0\"\n",
    "path_genus = \"./data/genus48\"\n",
    "count_path = 'data/simulation/count/'\n",
    "\n",
    "y_path = sprintf('%s/%s', data_path, 'y.csv')\n",
    "tree_info_path = './data/genus48/genus48_dic.csv'\n",
    "count_path = './data/simulation/count'\n",
    "count_list_path = './data/simulation/gcount_list.csv'\n",
    "idx_path = './data/simulation/s0/idx.csv'\n",
    "\n",
    "num_classes = 0 # regression\n",
    "tree_level_list = c('Genus', 'Family', 'Order', 'Class', 'Phylum')"
   ]
  },
  {
   "cell_type": "code",
   "execution_count": 162,
   "metadata": {},
   "outputs": [],
   "source": [
    "# # Read phylogenetic tree information\n",
    "\n",
    "# phylogenetic_tree_info = read.csv(tree_info_path)\n",
    "# phylogenetic_tree_info = phylogenetic_tree_info %>% select(tree_level_list)\n",
    "\n",
    "# print(sprintf('Phylogenetic tree level list: %s', str_c(phylogenetic_tree_info %>% colnames, collapse = ', ')))"
   ]
  },
  {
   "cell_type": "markdown",
   "metadata": {},
   "source": [
    "### Read dataset"
   ]
  },
  {
   "cell_type": "code",
   "execution_count": 96,
   "metadata": {
    "collapsed": true
   },
   "outputs": [],
   "source": [
    "read_dataset <- function(x_path, y_path, sim){\n",
    "    print(str_c('Load data for repetition ', sim))\n",
    "    x = read.csv(x_path)\n",
    "    y = read.csv(y_path)[,sim]\n",
    "    x = (x - max(x)) / (max(x) - min(x))\n",
    "\n",
    "    idxs = idxs_total[, sim]\n",
    "    remain_idxs = setdiff(seq(1, dim(x)[1]), idxs)\n",
    "\n",
    "    x_train = x[idxs,]\n",
    "    x_test = x[remain_idxs,]\n",
    "    y_train = y[idxs]\n",
    "    y_test = y[remain_idxs]\n",
    "    \n",
    "    return (list(x_train, x_test, y_train, y_test))\n",
    "}"
   ]
  },
  {
   "cell_type": "code",
   "execution_count": 91,
   "metadata": {},
   "outputs": [
    {
     "data": {
      "text/html": [
       "1000"
      ],
      "text/latex": [
       "1000"
      ],
      "text/markdown": [
       "1000"
      ],
      "text/plain": [
       "[1] 1000"
      ]
     },
     "metadata": {},
     "output_type": "display_data"
    }
   ],
   "source": [
    "idxs_total = read.csv(idx_path)\n",
    "number_of_fold = dim(idxs_total)[2]; number_of_fold\n",
    "x_list = read.csv(count_list_path, header = FALSE)\n",
    "x_path = x_list$V1 %>% sprintf('%s/%s', count_path, .)"
   ]
  },
  {
   "cell_type": "markdown",
   "metadata": {},
   "source": [
    "## Random Forest\n",
    "\n",
    "### TODO\n",
    "\n",
    "1. set `mtry` from 48 genus \n",
    "1. Random Forest with Feature Selection"
   ]
  },
  {
   "cell_type": "code",
   "execution_count": 178,
   "metadata": {},
   "outputs": [
    {
     "name": "stdout",
     "output_type": "stream",
     "text": [
      "[1] \"Load data for repetition 1\"\n",
      "[1] \"Train mse: 0.032349665895835, Train Correlation: 0.965925836699227\"\n",
      "[1] \"Test mse: 0.058298639153035, Test Correlation: 0.88090071805761\"\n"
     ]
    }
   ],
   "source": [
    "set.seed(100)\n",
    "fold = 1\n",
    "dataset = read_dataset(x_path[fold], y_path, fold)\n",
    "x_train = dataset[[1]]\n",
    "x_test = dataset[[2]]\n",
    "y_train = dataset[[3]]\n",
    "y_test = dataset[[4]]\n",
    "\n",
    "fit.rf <- randomForest(y_train~.,data=x_train, ntree=1000,  mtry=10)\n",
    "train.pred <- fit.rf$predicted\n",
    "test.pred <- predict(fit.rf,x_test)\n",
    "\n",
    "train.mse <- mean((y_train - train.pred)^2)\n",
    "train.cor <- cor(y_train, train.pred)\n",
    "print(sprintf('Train mse: %s, Train Correlation: %s', train.mse, train.cor))\n",
    "\n",
    "test.cor <- cor(y_test, test.pred)\n",
    "test.mse <- mean((y_test - test.pred)^2)\n",
    "print(sprintf('Test mse: %s, Test Correlation: %s', test.mse, test.cor))"
   ]
  },
  {
   "cell_type": "code",
   "execution_count": 177,
   "metadata": {
    "scrolled": false
   },
   "outputs": [
    {
     "data": {
      "image/png": "[encoded data removed]",
      "text/plain": [
       "plot without title"
      ]
     },
     "metadata": {
      "image/png": {
       "height": 420,
       "width": 420
      }
     },
     "output_type": "display_data"
    },
    {
     "data": {
      "image/png": "[encoded data removed]",
      "text/plain": [
       "plot without title"
      ]
     },
     "metadata": {
      "image/png": {
       "height": 420,
       "width": 420
      }
     },
     "output_type": "display_data"
    }
   ],
   "source": [
    "plot(y_train, train.pred)\n",
    "plot(y_test, pred)"
   ]
  },
  {
   "cell_type": "markdown",
   "metadata": {},
   "source": [
    "### Simulate for all $n$"
   ]
  },
  {
   "cell_type": "code",
   "execution_count": 182,
   "metadata": {},
   "outputs": [],
   "source": [
    "random_forest_res <- function(fold){\n",
    "    dataset = read_dataset(x_path[fold], y_path, fold)\n",
    "    x_train = dataset[[1]]\n",
    "    x_test = dataset[[2]]\n",
    "    y_train = dataset[[3]]\n",
    "    y_test = dataset[[4]]\n",
    "\n",
    "    fit.rf <- randomForest(y_train~.,data=x_train, ntree=1000,  mtry=10)\n",
    "    train.pred <- fit.rf$predicted\n",
    "    test.pred <- predict(fit.rf,x_test)\n",
    "\n",
    "    train.mse <- mean((y_train - train.pred)^2)\n",
    "    train.cor <- cor(y_train, train.pred)\n",
    "    print(sprintf('-----------------------------------------------------------------'))\n",
    "    print(sprintf('Random Forest computation for %dth repetition', fold))\n",
    "    print(sprintf('Train mse: %s, Train Correlation: %s', train.mse, train.cor))\n",
    "\n",
    "    test.cor <- cor(y_test, test.pred)\n",
    "    test.mse <- mean((y_test - test.pred)^2)\n",
    "    print(sprintf('Test mse: %s, Test Correlation: %s', test.mse, test.cor))    \n",
    "    return (c(train.mse, train.cor, test.mse, test.cor))\n",
    "}"
   ]
  },
  {
   "cell_type": "code",
   "execution_count": 188,
   "metadata": {},
   "outputs": [
    {
     "name": "stdout",
     "output_type": "stream",
     "text": [
      "[1] \"Load data for repetition 1\"\n",
      "[1] \"-----------------------------------------------------------------\"\n",
      "[1] \"Random Forest computation for 1th repetition\"\n",
      "[1] \"Train mse: 0.0614033092801083, Train Correlation: 0.954956095778726\"\n",
      "[1] \"Test mse: 0.0594391884653157, Test Correlation: 0.874716407858127\"\n",
      "[1] \"Load data for repetition 2\"\n",
      "[1] \"-----------------------------------------------------------------\"\n",
      "[1] \"Random Forest computation for 2th repetition\"\n",
      "[1] \"Train mse: 0.0782647039160406, Train Correlation: 0.905355203569631\"\n",
      "[1] \"Test mse: 0.0809153475542727, Test Correlation: 0.962954164414091\"\n",
      "[1] \"Load data for repetition 3\"\n",
      "[1] \"-----------------------------------------------------------------\"\n",
      "[1] \"Random Forest computation for 3th repetition\"\n",
      "[1] \"Train mse: 0.075115253787798, Train Correlation: 0.936554941305461\"\n",
      "[1] \"Test mse: 0.0480063285697441, Test Correlation: 0.87181097419111\"\n",
      "[1] \"Load data for repetition 4\"\n",
      "[1] \"-----------------------------------------------------------------\"\n",
      "[1] \"Random Forest computation for 4th repetition\"\n",
      "[1] \"Train mse: 0.0686347196088532, Train Correlation: 0.92453727358309\"\n",
      "[1] \"Test mse: 0.0169333862977572, Test Correlation: 0.943595642087064\"\n",
      "[1] \"Load data for repetition 5\"\n",
      "[1] \"-----------------------------------------------------------------\"\n",
      "[1] \"Random Forest computation for 5th repetition\"\n",
      "[1] \"Train mse: 0.0735681092146307, Train Correlation: 0.904541197310083\"\n",
      "[1] \"Test mse: 0.0629808024086518, Test Correlation: 0.926910448664991\"\n",
      "[1] \"Load data for repetition 6\"\n",
      "[1] \"-----------------------------------------------------------------\"\n",
      "[1] \"Random Forest computation for 6th repetition\"\n",
      "[1] \"Train mse: 0.0591972169782535, Train Correlation: 0.938697272880665\"\n",
      "[1] \"Test mse: 0.0468896336225518, Test Correlation: 0.89209003268182\"\n",
      "[1] \"Load data for repetition 7\"\n",
      "[1] \"-----------------------------------------------------------------\"\n",
      "[1] \"Random Forest computation for 7th repetition\"\n",
      "[1] \"Train mse: 0.0799673529688986, Train Correlation: 0.924573476097103\"\n",
      "[1] \"Test mse: 0.03326177363374, Test Correlation: 0.889455464777394\"\n",
      "[1] \"Load data for repetition 8\"\n",
      "[1] \"-----------------------------------------------------------------\"\n",
      "[1] \"Random Forest computation for 8th repetition\"\n",
      "[1] \"Train mse: 0.0615748237917374, Train Correlation: 0.938540708343713\"\n",
      "[1] \"Test mse: 0.102574272266894, Test Correlation: 0.856528774606727\"\n",
      "[1] \"Load data for repetition 9\"\n",
      "[1] \"-----------------------------------------------------------------\"\n",
      "[1] \"Random Forest computation for 9th repetition\"\n",
      "[1] \"Train mse: 0.0816993226877505, Train Correlation: 0.894177080717635\"\n",
      "[1] \"Test mse: 0.0782625010473514, Test Correlation: 0.966012980873216\"\n",
      "[1] \"Load data for repetition 10\"\n",
      "[1] \"-----------------------------------------------------------------\"\n",
      "[1] \"Random Forest computation for 10th repetition\"\n",
      "[1] \"Train mse: 0.0563525289194717, Train Correlation: 0.896934908086774\"\n",
      "[1] \"Test mse: 0.117494354586223, Test Correlation: 0.891712857056668\"\n"
     ]
    }
   ],
   "source": [
    "set.seed(100)\n",
    "res <- sapply(seq(1,10), random_forest_res)"
   ]
  },
  {
   "cell_type": "code",
   "execution_count": 227,
   "metadata": {
    "scrolled": true
   },
   "outputs": [
    {
     "data": {
      "text/html": [
       "<table>\n",
       "<thead><tr><th scope=col>Training MSE</th><th scope=col>Training Correlation</th><th scope=col>Test MSE</th><th scope=col>Test Correlation</th></tr></thead>\n",
       "<tbody>\n",
       "\t<tr><td>0.06140331</td><td>0.9549561 </td><td>0.8747164 </td><td>0.05943919</td></tr>\n",
       "\t<tr><td>0.07826470</td><td>0.9053552 </td><td>0.9629542 </td><td>0.08091535</td></tr>\n",
       "\t<tr><td>0.07511525</td><td>0.9365549 </td><td>0.8718110 </td><td>0.04800633</td></tr>\n",
       "\t<tr><td>0.06863472</td><td>0.9245373 </td><td>0.9435956 </td><td>0.01693339</td></tr>\n",
       "\t<tr><td>0.07356811</td><td>0.9045412 </td><td>0.9269104 </td><td>0.06298080</td></tr>\n",
       "\t<tr><td>0.05919722</td><td>0.9386973 </td><td>0.8920900 </td><td>0.04688963</td></tr>\n",
       "\t<tr><td>0.07996735</td><td>0.9245735 </td><td>0.8894555 </td><td>0.03326177</td></tr>\n",
       "\t<tr><td>0.06157482</td><td>0.9385407 </td><td>0.8565288 </td><td>0.10257427</td></tr>\n",
       "\t<tr><td>0.08169932</td><td>0.8941771 </td><td>0.9660130 </td><td>0.07826250</td></tr>\n",
       "\t<tr><td>0.05635253</td><td>0.8969349 </td><td>0.8917129 </td><td>0.11749435</td></tr>\n",
       "</tbody>\n",
       "</table>\n"
      ],
      "text/latex": [
       "\\begin{tabular}{r|llll}\n",
       " Training MSE & Training Correlation & Test MSE & Test Correlation\\\\\n",
       "\\hline\n",
       "\t 0.06140331 & 0.9549561  & 0.8747164  & 0.05943919\\\\\n",
       "\t 0.07826470 & 0.9053552  & 0.9629542  & 0.08091535\\\\\n",
       "\t 0.07511525 & 0.9365549  & 0.8718110  & 0.04800633\\\\\n",
       "\t 0.06863472 & 0.9245373  & 0.9435956  & 0.01693339\\\\\n",
       "\t 0.07356811 & 0.9045412  & 0.9269104  & 0.06298080\\\\\n",
       "\t 0.05919722 & 0.9386973  & 0.8920900  & 0.04688963\\\\\n",
       "\t 0.07996735 & 0.9245735  & 0.8894555  & 0.03326177\\\\\n",
       "\t 0.06157482 & 0.9385407  & 0.8565288  & 0.10257427\\\\\n",
       "\t 0.08169932 & 0.8941771  & 0.9660130  & 0.07826250\\\\\n",
       "\t 0.05635253 & 0.8969349  & 0.8917129  & 0.11749435\\\\\n",
       "\\end{tabular}\n"
      ],
      "text/markdown": [
       "\n",
       "Training MSE | Training Correlation | Test MSE | Test Correlation | \n",
       "|---|---|---|---|---|---|---|---|---|---|\n",
       "| 0.06140331 | 0.9549561  | 0.8747164  | 0.05943919 | \n",
       "| 0.07826470 | 0.9053552  | 0.9629542  | 0.08091535 | \n",
       "| 0.07511525 | 0.9365549  | 0.8718110  | 0.04800633 | \n",
       "| 0.06863472 | 0.9245373  | 0.9435956  | 0.01693339 | \n",
       "| 0.07356811 | 0.9045412  | 0.9269104  | 0.06298080 | \n",
       "| 0.05919722 | 0.9386973  | 0.8920900  | 0.04688963 | \n",
       "| 0.07996735 | 0.9245735  | 0.8894555  | 0.03326177 | \n",
       "| 0.06157482 | 0.9385407  | 0.8565288  | 0.10257427 | \n",
       "| 0.08169932 | 0.8941771  | 0.9660130  | 0.07826250 | \n",
       "| 0.05635253 | 0.8969349  | 0.8917129  | 0.11749435 | \n",
       "\n",
       "\n"
      ],
      "text/plain": [
       "   Training MSE Training Correlation Test MSE  Test Correlation\n",
       "1  0.06140331   0.9549561            0.8747164 0.05943919      \n",
       "2  0.07826470   0.9053552            0.9629542 0.08091535      \n",
       "3  0.07511525   0.9365549            0.8718110 0.04800633      \n",
       "4  0.06863472   0.9245373            0.9435956 0.01693339      \n",
       "5  0.07356811   0.9045412            0.9269104 0.06298080      \n",
       "6  0.05919722   0.9386973            0.8920900 0.04688963      \n",
       "7  0.07996735   0.9245735            0.8894555 0.03326177      \n",
       "8  0.06157482   0.9385407            0.8565288 0.10257427      \n",
       "9  0.08169932   0.8941771            0.9660130 0.07826250      \n",
       "10 0.05635253   0.8969349            0.8917129 0.11749435      "
      ]
     },
     "metadata": {},
     "output_type": "display_data"
    }
   ],
   "source": [
    "results_table = res %>% t %>% data.frame\n",
    "colnames(results_table) = c('Training MSE', 'Training Correlation', 'Test MSE', 'Test Correlation')\n",
    "results_table"
   ]
  },
  {
   "cell_type": "code",
   "execution_count": 229,
   "metadata": {},
   "outputs": [
    {
     "data": {
      "text/html": [
       "<dl class=dl-horizontal>\n",
       "\t<dt>Training MSE</dt>\n",
       "\t\t<dd>0.0695777341153543</dd>\n",
       "\t<dt>Training Correlation</dt>\n",
       "\t\t<dd>0.921886815767288</dd>\n",
       "\t<dt>Test MSE</dt>\n",
       "\t\t<dd>0.907578774721121</dd>\n",
       "\t<dt>Test Correlation</dt>\n",
       "\t\t<dd>0.0646757588452502</dd>\n",
       "</dl>\n"
      ],
      "text/latex": [
       "\\begin{description*}\n",
       "\\item[Training MSE] 0.0695777341153543\n",
       "\\item[Training Correlation] 0.921886815767288\n",
       "\\item[Test MSE] 0.907578774721121\n",
       "\\item[Test Correlation] 0.0646757588452502\n",
       "\\end{description*}\n"
      ],
      "text/markdown": [
       "Training MSE\n",
       ":   0.0695777341153543Training Correlation\n",
       ":   0.921886815767288Test MSE\n",
       ":   0.907578774721121Test Correlation\n",
       ":   0.0646757588452502\n",
       "\n"
      ],
      "text/plain": [
       "        Training MSE Training Correlation             Test MSE \n",
       "          0.06957773           0.92188682           0.90757877 \n",
       "    Test Correlation \n",
       "          0.06467576 "
      ]
     },
     "metadata": {},
     "output_type": "display_data"
    }
   ],
   "source": [
    "apply(results_table, 2, mean)"
   ]
  },
  {
   "cell_type": "code",
   "execution_count": 230,
   "metadata": {},
   "outputs": [
    {
     "data": {
      "text/html": [
       "<dl class=dl-horizontal>\n",
       "\t<dt>Training MSE</dt>\n",
       "\t\t<dd>0.00937695763984654</dd>\n",
       "\t<dt>Training Correlation</dt>\n",
       "\t\t<dd>0.0206760990810457</dd>\n",
       "\t<dt>Test MSE</dt>\n",
       "\t\t<dd>0.0393522195385411</dd>\n",
       "\t<dt>Test Correlation</dt>\n",
       "\t\t<dd>0.030849290441812</dd>\n",
       "</dl>\n"
      ],
      "text/latex": [
       "\\begin{description*}\n",
       "\\item[Training MSE] 0.00937695763984654\n",
       "\\item[Training Correlation] 0.0206760990810457\n",
       "\\item[Test MSE] 0.0393522195385411\n",
       "\\item[Test Correlation] 0.030849290441812\n",
       "\\end{description*}\n"
      ],
      "text/markdown": [
       "Training MSE\n",
       ":   0.00937695763984654Training Correlation\n",
       ":   0.0206760990810457Test MSE\n",
       ":   0.0393522195385411Test Correlation\n",
       ":   0.030849290441812\n",
       "\n"
      ],
      "text/plain": [
       "        Training MSE Training Correlation             Test MSE \n",
       "         0.009376958          0.020676099          0.039352220 \n",
       "    Test Correlation \n",
       "         0.030849290 "
      ]
     },
     "metadata": {},
     "output_type": "display_data"
    }
   ],
   "source": [
    "apply(results_table, 2, sd)"
   ]
  },
  {
   "cell_type": "markdown",
   "metadata": {},
   "source": [
    "### Summarize"
   ]
  },
  {
   "cell_type": "markdown",
   "metadata": {},
   "source": [
    "|                                   | Testing |       |             |       | Training |       |             |       |\n",
    "|-----------------------------------|:-------:|-------|-------------|-------|:--------:|-------|-------------|-------|\n",
    "| Method                            |   MSE   |       | Correlation |       |    MSE   |       | Correlation |       |\n",
    "|                                   | mean    | sd    | mean        | sd    | mean     | sd    | mean        | sd    |\n",
    "| Linear Regression                 | 0.104   | 0.024 | 0.824       | 0.049 | 0.087    | 0.011 | 0.851       | 0.023 |\n",
    "| Ridge                             | 0.104   | 0.022 | 0.824       | 0.049 | 0.09     | 0.012 | 0.851       | 0.023 |\n",
    "| Lasso                             | 0.100   | 0.023 | 0.833       | 0.048 | 0.092    | 0.013 | 0.843       | 0.025 |\n",
    "| Elastic Net                       | 0.100   | 0.023 | 0.833       | 0.048 | 0.092    | 0.012 | 0.844       | 0.025 |\n",
    "| Random Forest                     |         |       |             |       |          |       |             |       |\n",
    "| Random Forest + Feature Selection |         |       |             |       |          |       |             |       |\n",
    "| DNN                               | 0.076   | 0.040 | 0.874       | 0.077 | 0.032    | 0.034 | 0.947       | 0.067 |\n",
    "| DNN+$\\ell_1$                      | 0.075   | 0.040 | 0.875       | 0.073 | 0.034    | 0.039 | 0.945       | 0.068 |\n",
    "| DeepBiome                         | 0.071   | 0.036 | 0.882       | 0.069 | 0.043    | 0.034 | 0.929       | 0.061 |"
   ]
  },
  {
   "cell_type": "markdown",
   "metadata": {},
   "source": [
    "## TODO: Feature selection\n",
    "#### The variable importance plot"
   ]
  },
  {
   "cell_type": "code",
   "execution_count": 149,
   "metadata": {
    "scrolled": true
   },
   "outputs": [
    {
     "data": {
      "text/html": [
       "<table>\n",
       "<thead><tr><th></th><th scope=col>IncNodePurity</th></tr></thead>\n",
       "<tbody>\n",
       "\t<tr><th scope=row>Streptococcus</th><td> 5.6975811</td></tr>\n",
       "\t<tr><th scope=row>Tropheryma</th><td>83.2086087</td></tr>\n",
       "\t<tr><th scope=row>Veillonella</th><td> 7.8255639</td></tr>\n",
       "\t<tr><th scope=row>Actinomyces</th><td> 6.6281992</td></tr>\n",
       "\t<tr><th scope=row>Flavobacterium</th><td> 3.0900329</td></tr>\n",
       "\t<tr><th scope=row>Prevotella</th><td> 5.1546348</td></tr>\n",
       "\t<tr><th scope=row>Porphyromonas</th><td>26.5425985</td></tr>\n",
       "\t<tr><th scope=row>Parvimonas</th><td> 4.7940545</td></tr>\n",
       "\t<tr><th scope=row>Fusobacterium</th><td> 5.8135518</td></tr>\n",
       "\t<tr><th scope=row>Propionibacterium</th><td> 3.0809211</td></tr>\n",
       "\t<tr><th scope=row>Gemella</th><td> 4.0131119</td></tr>\n",
       "\t<tr><th scope=row>Rothia</th><td> 4.8935573</td></tr>\n",
       "\t<tr><th scope=row>Granulicatella</th><td> 4.9610607</td></tr>\n",
       "\t<tr><th scope=row>Neisseria</th><td> 7.4777361</td></tr>\n",
       "\t<tr><th scope=row>Lactobacillus</th><td> 3.9278559</td></tr>\n",
       "\t<tr><th scope=row>Megasphaera</th><td> 4.1794960</td></tr>\n",
       "\t<tr><th scope=row>Catonella</th><td> 5.1115512</td></tr>\n",
       "\t<tr><th scope=row>Atopobium</th><td> 4.0178454</td></tr>\n",
       "\t<tr><th scope=row>Campylobacter</th><td> 5.0370978</td></tr>\n",
       "\t<tr><th scope=row>Capnocytophaga</th><td> 4.5792160</td></tr>\n",
       "\t<tr><th scope=row>Solobacterium</th><td> 5.7712397</td></tr>\n",
       "\t<tr><th scope=row>Moryella</th><td> 2.8569320</td></tr>\n",
       "\t<tr><th scope=row>TM7_genera_incertae_sedis</th><td> 4.8277905</td></tr>\n",
       "\t<tr><th scope=row>Staphylococcus</th><td> 4.4519275</td></tr>\n",
       "\t<tr><th scope=row>Filifactor</th><td> 2.8280995</td></tr>\n",
       "\t<tr><th scope=row>Oribacterium</th><td> 7.6892328</td></tr>\n",
       "\t<tr><th scope=row>Burkholderia</th><td> 3.4611822</td></tr>\n",
       "\t<tr><th scope=row>Sneathia</th><td> 3.0575748</td></tr>\n",
       "\t<tr><th scope=row>Treponema</th><td> 5.5804132</td></tr>\n",
       "\t<tr><th scope=row>Moraxella</th><td> 0.9123451</td></tr>\n",
       "\t<tr><th scope=row>Haemophilus</th><td> 2.9686586</td></tr>\n",
       "\t<tr><th scope=row>Selenomonas</th><td> 6.0270329</td></tr>\n",
       "\t<tr><th scope=row>Corynebacterium</th><td> 4.5038893</td></tr>\n",
       "\t<tr><th scope=row>Rhizobium</th><td> 2.7055223</td></tr>\n",
       "\t<tr><th scope=row>Bradyrhizobium</th><td> 1.6040146</td></tr>\n",
       "\t<tr><th scope=row>Methylobacterium</th><td> 2.7662975</td></tr>\n",
       "\t<tr><th scope=row>OD1_genera_incertae_sedis</th><td> 5.9185522</td></tr>\n",
       "\t<tr><th scope=row>Finegoldia</th><td> 1.3773419</td></tr>\n",
       "\t<tr><th scope=row>Microbacterium</th><td> 1.5048801</td></tr>\n",
       "\t<tr><th scope=row>Sphingomonas</th><td> 2.5613721</td></tr>\n",
       "\t<tr><th scope=row>Chryseobacterium</th><td> 2.2647103</td></tr>\n",
       "\t<tr><th scope=row>Bacteroides</th><td> 1.8089378</td></tr>\n",
       "\t<tr><th scope=row>Bdellovibrio</th><td> 0.9518115</td></tr>\n",
       "\t<tr><th scope=row>Streptophyta</th><td> 1.0272849</td></tr>\n",
       "\t<tr><th scope=row>Lachnospiracea_incertae_sedis</th><td> 0.6885079</td></tr>\n",
       "\t<tr><th scope=row>Paracoccus</th><td> 1.4195067</td></tr>\n",
       "\t<tr><th scope=row>Fastidiosipila</th><td> 0.8138257</td></tr>\n",
       "\t<tr><th scope=row>Pseudonocardia</th><td> 7.0856576</td></tr>\n",
       "</tbody>\n",
       "</table>\n"
      ],
      "text/latex": [
       "\\begin{tabular}{r|l}\n",
       "  & IncNodePurity\\\\\n",
       "\\hline\n",
       "\tStreptococcus &  5.6975811\\\\\n",
       "\tTropheryma & 83.2086087\\\\\n",
       "\tVeillonella &  7.8255639\\\\\n",
       "\tActinomyces &  6.6281992\\\\\n",
       "\tFlavobacterium &  3.0900329\\\\\n",
       "\tPrevotella &  5.1546348\\\\\n",
       "\tPorphyromonas & 26.5425985\\\\\n",
       "\tParvimonas &  4.7940545\\\\\n",
       "\tFusobacterium &  5.8135518\\\\\n",
       "\tPropionibacterium &  3.0809211\\\\\n",
       "\tGemella &  4.0131119\\\\\n",
       "\tRothia &  4.8935573\\\\\n",
       "\tGranulicatella &  4.9610607\\\\\n",
       "\tNeisseria &  7.4777361\\\\\n",
       "\tLactobacillus &  3.9278559\\\\\n",
       "\tMegasphaera &  4.1794960\\\\\n",
       "\tCatonella &  5.1115512\\\\\n",
       "\tAtopobium &  4.0178454\\\\\n",
       "\tCampylobacter &  5.0370978\\\\\n",
       "\tCapnocytophaga &  4.5792160\\\\\n",
       "\tSolobacterium &  5.7712397\\\\\n",
       "\tMoryella &  2.8569320\\\\\n",
       "\tTM7\\_genera\\_incertae\\_sedis &  4.8277905\\\\\n",
       "\tStaphylococcus &  4.4519275\\\\\n",
       "\tFilifactor &  2.8280995\\\\\n",
       "\tOribacterium &  7.6892328\\\\\n",
       "\tBurkholderia &  3.4611822\\\\\n",
       "\tSneathia &  3.0575748\\\\\n",
       "\tTreponema &  5.5804132\\\\\n",
       "\tMoraxella &  0.9123451\\\\\n",
       "\tHaemophilus &  2.9686586\\\\\n",
       "\tSelenomonas &  6.0270329\\\\\n",
       "\tCorynebacterium &  4.5038893\\\\\n",
       "\tRhizobium &  2.7055223\\\\\n",
       "\tBradyrhizobium &  1.6040146\\\\\n",
       "\tMethylobacterium &  2.7662975\\\\\n",
       "\tOD1\\_genera\\_incertae\\_sedis &  5.9185522\\\\\n",
       "\tFinegoldia &  1.3773419\\\\\n",
       "\tMicrobacterium &  1.5048801\\\\\n",
       "\tSphingomonas &  2.5613721\\\\\n",
       "\tChryseobacterium &  2.2647103\\\\\n",
       "\tBacteroides &  1.8089378\\\\\n",
       "\tBdellovibrio &  0.9518115\\\\\n",
       "\tStreptophyta &  1.0272849\\\\\n",
       "\tLachnospiracea\\_incertae\\_sedis &  0.6885079\\\\\n",
       "\tParacoccus &  1.4195067\\\\\n",
       "\tFastidiosipila &  0.8138257\\\\\n",
       "\tPseudonocardia &  7.0856576\\\\\n",
       "\\end{tabular}\n"
      ],
      "text/markdown": [
       "\n",
       "| <!--/--> | IncNodePurity | \n",
       "|---|---|---|---|---|---|---|---|---|---|---|---|---|---|---|---|---|---|---|---|---|---|---|---|---|---|---|---|---|---|---|---|---|---|---|---|---|---|---|---|---|---|---|---|---|---|---|---|\n",
       "| Streptococcus |  5.6975811 | \n",
       "| Tropheryma | 83.2086087 | \n",
       "| Veillonella |  7.8255639 | \n",
       "| Actinomyces |  6.6281992 | \n",
       "| Flavobacterium |  3.0900329 | \n",
       "| Prevotella |  5.1546348 | \n",
       "| Porphyromonas | 26.5425985 | \n",
       "| Parvimonas |  4.7940545 | \n",
       "| Fusobacterium |  5.8135518 | \n",
       "| Propionibacterium |  3.0809211 | \n",
       "| Gemella |  4.0131119 | \n",
       "| Rothia |  4.8935573 | \n",
       "| Granulicatella |  4.9610607 | \n",
       "| Neisseria |  7.4777361 | \n",
       "| Lactobacillus |  3.9278559 | \n",
       "| Megasphaera |  4.1794960 | \n",
       "| Catonella |  5.1115512 | \n",
       "| Atopobium |  4.0178454 | \n",
       "| Campylobacter |  5.0370978 | \n",
       "| Capnocytophaga |  4.5792160 | \n",
       "| Solobacterium |  5.7712397 | \n",
       "| Moryella |  2.8569320 | \n",
       "| TM7_genera_incertae_sedis |  4.8277905 | \n",
       "| Staphylococcus |  4.4519275 | \n",
       "| Filifactor |  2.8280995 | \n",
       "| Oribacterium |  7.6892328 | \n",
       "| Burkholderia |  3.4611822 | \n",
       "| Sneathia |  3.0575748 | \n",
       "| Treponema |  5.5804132 | \n",
       "| Moraxella |  0.9123451 | \n",
       "| Haemophilus |  2.9686586 | \n",
       "| Selenomonas |  6.0270329 | \n",
       "| Corynebacterium |  4.5038893 | \n",
       "| Rhizobium |  2.7055223 | \n",
       "| Bradyrhizobium |  1.6040146 | \n",
       "| Methylobacterium |  2.7662975 | \n",
       "| OD1_genera_incertae_sedis |  5.9185522 | \n",
       "| Finegoldia |  1.3773419 | \n",
       "| Microbacterium |  1.5048801 | \n",
       "| Sphingomonas |  2.5613721 | \n",
       "| Chryseobacterium |  2.2647103 | \n",
       "| Bacteroides |  1.8089378 | \n",
       "| Bdellovibrio |  0.9518115 | \n",
       "| Streptophyta |  1.0272849 | \n",
       "| Lachnospiracea_incertae_sedis |  0.6885079 | \n",
       "| Paracoccus |  1.4195067 | \n",
       "| Fastidiosipila |  0.8138257 | \n",
       "| Pseudonocardia |  7.0856576 | \n",
       "\n",
       "\n"
      ],
      "text/plain": [
       "                              IncNodePurity\n",
       "Streptococcus                  5.6975811   \n",
       "Tropheryma                    83.2086087   \n",
       "Veillonella                    7.8255639   \n",
       "Actinomyces                    6.6281992   \n",
       "Flavobacterium                 3.0900329   \n",
       "Prevotella                     5.1546348   \n",
       "Porphyromonas                 26.5425985   \n",
       "Parvimonas                     4.7940545   \n",
       "Fusobacterium                  5.8135518   \n",
       "Propionibacterium              3.0809211   \n",
       "Gemella                        4.0131119   \n",
       "Rothia                         4.8935573   \n",
       "Granulicatella                 4.9610607   \n",
       "Neisseria                      7.4777361   \n",
       "Lactobacillus                  3.9278559   \n",
       "Megasphaera                    4.1794960   \n",
       "Catonella                      5.1115512   \n",
       "Atopobium                      4.0178454   \n",
       "Campylobacter                  5.0370978   \n",
       "Capnocytophaga                 4.5792160   \n",
       "Solobacterium                  5.7712397   \n",
       "Moryella                       2.8569320   \n",
       "TM7_genera_incertae_sedis      4.8277905   \n",
       "Staphylococcus                 4.4519275   \n",
       "Filifactor                     2.8280995   \n",
       "Oribacterium                   7.6892328   \n",
       "Burkholderia                   3.4611822   \n",
       "Sneathia                       3.0575748   \n",
       "Treponema                      5.5804132   \n",
       "Moraxella                      0.9123451   \n",
       "Haemophilus                    2.9686586   \n",
       "Selenomonas                    6.0270329   \n",
       "Corynebacterium                4.5038893   \n",
       "Rhizobium                      2.7055223   \n",
       "Bradyrhizobium                 1.6040146   \n",
       "Methylobacterium               2.7662975   \n",
       "OD1_genera_incertae_sedis      5.9185522   \n",
       "Finegoldia                     1.3773419   \n",
       "Microbacterium                 1.5048801   \n",
       "Sphingomonas                   2.5613721   \n",
       "Chryseobacterium               2.2647103   \n",
       "Bacteroides                    1.8089378   \n",
       "Bdellovibrio                   0.9518115   \n",
       "Streptophyta                   1.0272849   \n",
       "Lachnospiracea_incertae_sedis  0.6885079   \n",
       "Paracoccus                     1.4195067   \n",
       "Fastidiosipila                 0.8138257   \n",
       "Pseudonocardia                 7.0856576   "
      ]
     },
     "metadata": {},
     "output_type": "display_data"
    }
   ],
   "source": [
    "(VI_F=importance(fit.rf))"
   ]
  },
  {
   "cell_type": "code",
   "execution_count": 151,
   "metadata": {},
   "outputs": [
    {
     "data": {
      "image/png": "[encoded data removed]",
      "text/plain": [
       "Plot with title “fit.rf”"
      ]
     },
     "metadata": {
      "image/png": {
       "height": 420,
       "width": 420
      }
     },
     "output_type": "display_data"
    }
   ],
   "source": [
    "varImpPlot(fit.rf,type=2)"
   ]
  }
 ],
 "metadata": {
  "kernelspec": {
   "display_name": "R",
   "language": "R",
   "name": "ir"
  },
  "language_info": {
   "codemirror_mode": "r",
   "file_extension": ".r",
   "mimetype": "text/x-r-source",
   "name": "R",
   "pygments_lexer": "r",
   "version": "3.5.3"
  }
 },
 "nbformat": 4,
 "nbformat_minor": 2
}
