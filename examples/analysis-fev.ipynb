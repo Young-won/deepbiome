{
 "cells": [
  {
   "cell_type": "markdown",
   "metadata": {},
   "source": [
    "# Deep MicroBiome\n",
    "\n",
    "Aug. 14. 2019\n",
    "@ Youngwon (youngwon08@gmail.com)"
   ]
  },
  {
   "cell_type": "code",
   "execution_count": 1,
   "metadata": {
    "collapsed": true
   },
   "outputs": [],
   "source": [
    "import os\n",
    "import json\n",
    "import numpy as np\n",
    "import pandas as pd\n",
    "import copy\n",
    "import logging\n",
    "import sys\n",
    "from scipy.stats import pearsonr\n",
    "import matplotlib.pyplot as plt\n",
    "%matplotlib inline"
   ]
  },
  {
   "cell_type": "code",
   "execution_count": 2,
   "metadata": {},
   "outputs": [
    {
     "name": "stderr",
     "output_type": "stream",
     "text": [
      "/DATA/home/muha/.local/lib/python3.5/site-packages/h5py/__init__.py:36: FutureWarning: Conversion of the second argument of issubdtype from `float` to `np.floating` is deprecated. In future, it will be treated as `np.float64 == np.dtype(float).type`.\n",
      "  from ._conv import register_converters as _register_converters\n",
      "Using TensorFlow backend.\n"
     ]
    }
   ],
   "source": [
    "os.environ['CUDA_VISIBLE_DEVICES']='0'\n",
    "\n",
    "import configuration\n",
    "from loss_and_metric import metric_test, metric_texa_test\n",
    "import readers\n",
    "import build_network\n",
    "import configuration\n",
    "from utils import file_path_fold, plot_history"
   ]
  },
  {
   "cell_type": "code",
   "execution_count": 3,
   "metadata": {
    "collapsed": true
   },
   "outputs": [],
   "source": [
    "import keras.backend as k\n",
    "\n",
    "config = k.tf.ConfigProto()\n",
    "config.gpu_options.allow_growth=True\n",
    "#config.gpu_options.per_process_gpu_memory_fraction = 0.4\n",
    "k.set_session(k.tf.Session(config=config))"
   ]
  },
  {
   "cell_type": "code",
   "execution_count": 4,
   "metadata": {
    "collapsed": true
   },
   "outputs": [],
   "source": [
    "logging.basicConfig(format = '[%(name)-8s|%(levelname)s|%(filename)s:%(lineno)s] %(message)s',\n",
    "                    level=logging.DEBUG)\n",
    "log = logging.getLogger()"
   ]
  },
  {
   "cell_type": "markdown",
   "metadata": {},
   "source": [
    "## Pick Models"
   ]
  },
  {
   "cell_type": "code",
   "execution_count": 5,
   "metadata": {
    "collapsed": true,
    "scrolled": true
   },
   "outputs": [],
   "source": [
    "# %%bash\n",
    "# ls"
   ]
  },
  {
   "cell_type": "code",
   "execution_count": 6,
   "metadata": {
    "collapsed": true
   },
   "outputs": [],
   "source": [
    "save = False\n",
    "kfold=30\n",
    "network_model_keys = ['optimizer','lr','decay']\n",
    "architecture_keys = ['weight_decay', 'weight_l1_penalty', #'weight_l2_penalty',\n",
    "                     'tree_thrd', 'weight_initial',\n",
    "                     'batch_normalization','drop_out']\n",
    "network_training_keys = ['batch_size','epochs']"
   ]
  },
  {
   "cell_type": "code",
   "execution_count": 7,
   "metadata": {
    "collapsed": true
   },
   "outputs": [],
   "source": [
    "########################################################################\n",
    "\n",
    "filenames = 'fev1.Rmd'\n",
    "models = [\n",
    "          'realdata_fev1/fev1_deep',\n",
    "          'realdata_fev1/fev1_deep_l1',\n",
    "          'realdata_fev1/fev1_deepbiome',\n",
    "#           'realdata_fev1/fev1_deepbiome_l1',\n",
    "# #           'realdata_fev1/fev1_deepbiome_wo_noise',\n",
    "# #           'realdata_fev1/fev1_deepbiome_noise_decay',\n",
    "         ]\n",
    "\n",
    "models_aka = [\n",
    "          'DNN',\n",
    "          'DNN+l1',\n",
    "          'DeepBiome',\n",
    "#           'DeepBiome+l1',\n",
    "# #           'deepbiome_wo_noise',\n",
    "# #           'deepbiome_noise_decay',\n",
    "         ]\n",
    "num_classes = 0\n",
    "\n",
    "########################################################################"
   ]
  },
  {
   "cell_type": "code",
   "execution_count": 8,
   "metadata": {
    "collapsed": true
   },
   "outputs": [],
   "source": [
    "model_network_info = {}\n",
    "model_path_info = {}\n",
    "for model_path in models:\n",
    "    config_data = configuration.Configurator('%s/config/path_info.cfg' % model_path, log, verbose=False)\n",
    "    config_data.set_config_map(config_data.get_section_map())\n",
    "    config_network = configuration.Configurator('%s/config/network_info.cfg' % model_path, log, verbose=False)\n",
    "    config_network.set_config_map(config_network.get_section_map())\n",
    "\n",
    "    model_path_info[model_path] = config_data.get_config_map()\n",
    "    model_network_info[model_path] = config_network.get_config_map()"
   ]
  },
  {
   "cell_type": "code",
   "execution_count": 9,
   "metadata": {
    "collapsed": true
   },
   "outputs": [],
   "source": [
    "if num_classes == 0: y_names = ['loss','correlation_coefficient']\n",
    "elif num_classes==1: y_names = ['loss','binary_accuracy','sensitivity','specificity','gmeasure', 'auc']\n",
    "else: y_names=['loss','categorical_accuracy','precision','recall','f1', 'auc']\n",
    "\n",
    "if num_classes == 0: measure_index = np.array([0,1])\n",
    "elif num_classes==1: measure_index = np.array([2,3,4,1,5])\n",
    "else: measure_index = np.array([1,2,3,4,5])"
   ]
  },
  {
   "cell_type": "markdown",
   "metadata": {},
   "source": [
    "## History"
   ]
  },
  {
   "cell_type": "markdown",
   "metadata": {
    "collapsed": true
   },
   "source": [
    "#### per Epochs"
   ]
  },
  {
   "cell_type": "code",
   "execution_count": 10,
   "metadata": {
    "collapsed": true
   },
   "outputs": [],
   "source": [
    "# fig = plot_history(models, models_aka=models_aka, history_types = ['validation','train'], \n",
    "#          y_names = y_names, x_name='epochs', mode='summary')\n",
    "# if save: fig.savefig('%s/%s.png' % (fig_dir, 'hist'), pad_inches=0.01)\n",
    "# fig.show()"
   ]
  },
  {
   "cell_type": "markdown",
   "metadata": {},
   "source": [
    "#### per Iterations"
   ]
  },
  {
   "cell_type": "code",
   "execution_count": 11,
   "metadata": {
    "collapsed": true
   },
   "outputs": [],
   "source": [
    "# fig = plot_history(models, models_aka=models_aka,\n",
    "#              history_types = ['validation','train'], \n",
    "#              y_names = ['binary_accuracy','sensitivity','specificity','gmeasure'], x_name='iterations', niters=niters)\n",
    "# if save: fig.savefig('%s/%s.png' % (fig_dir, 'hist'), pad_inches=0.01)\n",
    "# fig.show()"
   ]
  },
  {
   "cell_type": "markdown",
   "metadata": {},
   "source": [
    "## Accuracy"
   ]
  },
  {
   "cell_type": "code",
   "execution_count": 12,
   "metadata": {},
   "outputs": [
    {
     "name": "stdout",
     "output_type": "stream",
     "text": [
      "               model & loss & correlation_coefficient  \\\\\\ \\hline\n",
      "DNN &      0.244 &      0.493&     1.000 &      0.000 &      0.102 &      0.070&     0.127 &      0.192 \\\\\n",
      "DNN+l1 &      0.281 &      0.436&     1.000 &      0.000 &      0.100 &      0.082&     0.234 &      0.275 \\\\\n",
      "DeepBiome &      0.033 &      0.057&     1.000 &      0.000 &      0.033 &      0.006&     0.030 &      0.026 \\\\\n"
     ]
    }
   ],
   "source": [
    "results = []\n",
    "# log.info('%20s & %s' % ('model', '& '.join(['%s ' % name for name in np.array(y_names)[[measure_index]]])))\n",
    "print('%20s & %s \\\\\\\\\\ \\hline' % ('model', '& '.join(['%s ' % name for name in np.array(y_names)[[measure_index]]])))\n",
    "# for model, aka in zip(models, models_aka):\n",
    "#     evaluation = np.load('%s/eval.npy' % model)\n",
    "#     log.info('%20s: %s' % (aka, ''.join(['%10.4f (%10.4f)'%(mean, std) for mean, std in zip(np.mean(evaluation, axis=0),np.std(evaluation, axis=0))])))\n",
    "#     results.append(np.vstack([np.mean(evaluation, axis=0),np.std(evaluation, axis=0)]).transpose())\n",
    "for model, aka in zip(models, models_aka):\n",
    "    train_evaluation = np.load('%s/train_eval.npy' % model)[:,measure_index]\n",
    "    train_res = '&'.join(['%10.3f & %10.3f'%(mean, std) for mean, std in zip(np.mean(train_evaluation, axis=0),np.std(train_evaluation, axis=0))])\n",
    "    test_evaluation = np.load('%s/test_eval.npy' % model)[:,measure_index]\n",
    "    test_res = '&'.join(['%10.3f & %10.3f'%(mean, std) for mean, std in zip(np.mean(test_evaluation, axis=0),np.std(test_evaluation, axis=0))])\n",
    "#     log.info('%s & %s & %s \\\\\\\\' % (aka, train_res, test_res))\n",
    "    print('%s & %s & %s \\\\\\\\' % (aka, test_res, train_res))\n",
    "#     results.append(np.vstack([np.mean(evaluation, axis=0),np.std(evaluation, axis=0)]).transpose())"
   ]
  },
  {
   "cell_type": "code",
   "execution_count": 13,
   "metadata": {
    "collapsed": true
   },
   "outputs": [],
   "source": [
    "col_names = ['model'] + architecture_keys + network_model_keys + network_training_keys\n",
    "values = []\n",
    "for model_path in models:\n",
    "    config_data = configuration.Configurator('%s/config/path_info.cfg' % model_path, log, verbose=False)\n",
    "    config_data.set_config_map(config_data.get_section_map())\n",
    "    config_network = configuration.Configurator('%s/config/network_info.cfg' % model_path, log, verbose=False)\n",
    "    config_network.set_config_map(config_network.get_section_map())\n",
    "\n",
    "    path_info = config_data.get_config_map()\n",
    "    network_info = config_network.get_config_map()\n",
    "    values.append([model_path] \n",
    "                  + [network_info['architecture_info'].get(k, None) for k in architecture_keys]\n",
    "                  + [network_info['model_info'].get(k, None) for k in network_model_keys]\n",
    "                  + [network_info['training_info'].get(k, None) for k in network_training_keys])\n",
    "\n",
    "if save:  \n",
    "    with open('%s/%s' % (analysis_dir, filename), mode='w') as f:\n",
    "        f.write('---\\ntitle: \"%s\"\\noutput: html_document\\n---\\n\\n' % filename.split('.')[0])\n",
    "        f.write('## History\\n\\n')\n",
    "        f.write('![](../%s/%s.png)' % (fig_dir, 'hist'))\n",
    "        f.write('\\n\\n## Performance\\n\\n')\n",
    "        f.write('| %s | %s |\\n' % (col_names[0], '|'.join([v[0] for v in values])))\n",
    "        f.write('|---|'+'---|'*len(values)+'\\n')\n",
    "        for i, k in enumerate(y_names):\n",
    "            f.write('| %s | %s |\\n' % (k, '|'.join(['%2.3f (%2.3f)' % (res[i+1][0],res[i+1][1]) for res in results])))\n",
    "        for i in range(1,len(col_names)):\n",
    "            f.write('| %s | %s |\\n' % (col_names[i], '|'.join([str(v[i]) for v in values])))\n",
    "\n",
    "    #     f.write('\\n')\n",
    "    #     with open('%s/setting_info.Rmd'%analysis_dir, 'r') as f_info:\n",
    "    #         lines = f_info.readlines()\n",
    "    #         for l in lines:\n",
    "    #             f.write(l)"
   ]
  },
  {
   "cell_type": "markdown",
   "metadata": {},
   "source": [
    "# Choose Model"
   ]
  },
  {
   "cell_type": "code",
   "execution_count": 14,
   "metadata": {},
   "outputs": [
    {
     "name": "stderr",
     "output_type": "stream",
     "text": [
      "[root    |INFO|<ipython-input-14-ce0e784f4c7b>:23]                  model : realdata_fev1/fev1_deepbiome\n",
      "[root    |INFO|<ipython-input-14-ce0e784f4c7b>:24]              model_aka : DeepBiome\n",
      "[root    |INFO|<ipython-input-14-ce0e784f4c7b>:26]           weight_decay : phylogenetic_tree\n",
      "[root    |INFO|<ipython-input-14-ce0e784f4c7b>:26]      weight_l1_penalty : None\n",
      "[root    |INFO|<ipython-input-14-ce0e784f4c7b>:26]              tree_thrd : None\n",
      "[root    |INFO|<ipython-input-14-ce0e784f4c7b>:26]         weight_initial : glorot_uniform\n",
      "[root    |INFO|<ipython-input-14-ce0e784f4c7b>:26]    batch_normalization : False\n",
      "[root    |INFO|<ipython-input-14-ce0e784f4c7b>:26]               drop_out : 0\n",
      "[root    |INFO|<ipython-input-14-ce0e784f4c7b>:28]              optimizer : adam\n",
      "[root    |INFO|<ipython-input-14-ce0e784f4c7b>:28]                     lr : 0.0001\n",
      "[root    |INFO|<ipython-input-14-ce0e784f4c7b>:28]                  decay : 0.0001\n",
      "[root    |INFO|<ipython-input-14-ce0e784f4c7b>:30]             batch_size : 30\n",
      "[root    |INFO|<ipython-input-14-ce0e784f4c7b>:30]                 epochs : 3000\n"
     ]
    }
   ],
   "source": [
    "num=2\n",
    "model_path = models[num]\n",
    "model_aka = models_aka[num]\n",
    "\n",
    "config_data = configuration.Configurator('%s/config/path_info.cfg' % model_path, log, verbose=False)\n",
    "config_data.set_config_map(config_data.get_section_map())\n",
    "config_network = configuration.Configurator('%s/config/network_info.cfg' % model_path, log, verbose=False)\n",
    "config_network.set_config_map(config_network.get_section_map())\n",
    "\n",
    "path_info = config_data.get_config_map()\n",
    "network_info = config_network.get_config_map()\n",
    "\n",
    "path_info['data_info']['data_path'] = '/'.join(path_info['data_info']['data_path'].split('/')[2:])\n",
    "path_info['data_info']['tree_info_path'] = '/'.join(path_info['data_info']['tree_info_path'].split('/')[2:])\n",
    "try: path_info['data_info']['count_list_path'] = '/'.join(path_info['data_info']['count_list_path'].split('/')[2:])\n",
    "except: pass\n",
    "try: path_info['data_info']['count_path'] = '/'.join(path_info['data_info']['count_path'].split('/')[2:])\n",
    "except: pass\n",
    "path_info['data_info']['idx_path'] = '/'.join(path_info['data_info']['idx_path'].split('/')[2:])\n",
    "try: path_info['data_info']['disease_weight_path'] = '/'.join(path_info['data_info']['disease_weight_path'].split('/')[2:])\n",
    "except: pass\n",
    "\n",
    "log.info('%22s : %s' % ('model', model_path))\n",
    "log.info('%22s : %s' % ('model_aka', model_aka))\n",
    "for k in architecture_keys:\n",
    "    log.info('%22s : %s' % (k, network_info['architecture_info'].get(k, None)))\n",
    "for k in network_model_keys:\n",
    "    log.info('%22s : %s' % (k, network_info['model_info'].get(k, None)))\n",
    "for k in network_training_keys:\n",
    "    log.info('%22s : %s' % (k, network_info['training_info'].get(k, None)))"
   ]
  },
  {
   "cell_type": "code",
   "execution_count": 15,
   "metadata": {
    "scrolled": true
   },
   "outputs": [
    {
     "name": "stderr",
     "output_type": "stream",
     "text": [
      "[root    |INFO|<ipython-input-15-65b4b58a34e1>:2] \t loss correlation_coefficient\n",
      "[root    |INFO|<ipython-input-15-65b4b58a34e1>:4] 0 fold : [2.6272994e-04 1.0000000e+00]\n",
      "[root    |INFO|<ipython-input-15-65b4b58a34e1>:4] 1 fold : [0.0102786 1.       ]\n",
      "[root    |INFO|<ipython-input-15-65b4b58a34e1>:4] 2 fold : [1.16048168e-05 1.00000000e+00]\n",
      "[root    |INFO|<ipython-input-15-65b4b58a34e1>:4] 3 fold : [0.0170235 1.       ]\n",
      "[root    |INFO|<ipython-input-15-65b4b58a34e1>:4] 4 fold : [0.01068457 1.        ]\n",
      "[root    |INFO|<ipython-input-15-65b4b58a34e1>:4] 5 fold : [0.23773624 1.        ]\n",
      "[root    |INFO|<ipython-input-15-65b4b58a34e1>:4] 6 fold : [0.13694672 1.        ]\n",
      "[root    |INFO|<ipython-input-15-65b4b58a34e1>:4] 7 fold : [0.00184339 1.        ]\n",
      "[root    |INFO|<ipython-input-15-65b4b58a34e1>:4] 8 fold : [0.00286648 1.        ]\n",
      "[root    |INFO|<ipython-input-15-65b4b58a34e1>:4] 9 fold : [0.0054176 1.       ]\n",
      "[root    |INFO|<ipython-input-15-65b4b58a34e1>:4] 10 fold : [0.01392506 1.        ]\n",
      "[root    |INFO|<ipython-input-15-65b4b58a34e1>:4] 11 fold : [0.02100326 1.        ]\n",
      "[root    |INFO|<ipython-input-15-65b4b58a34e1>:4] 12 fold : [0.01276918 1.        ]\n",
      "[root    |INFO|<ipython-input-15-65b4b58a34e1>:4] 13 fold : [0.0842741 1.       ]\n",
      "[root    |INFO|<ipython-input-15-65b4b58a34e1>:4] 14 fold : [0.00925023 1.        ]\n",
      "[root    |INFO|<ipython-input-15-65b4b58a34e1>:4] 15 fold : [0.20073862 1.        ]\n",
      "[root    |INFO|<ipython-input-15-65b4b58a34e1>:4] 16 fold : [0.00867707 1.        ]\n",
      "[root    |INFO|<ipython-input-15-65b4b58a34e1>:4] 17 fold : [0.01093184 1.        ]\n",
      "[root    |INFO|<ipython-input-15-65b4b58a34e1>:4] 18 fold : [0.00616497 1.        ]\n",
      "[root    |INFO|<ipython-input-15-65b4b58a34e1>:4] 19 fold : [0.03426255 1.        ]\n",
      "[root    |INFO|<ipython-input-15-65b4b58a34e1>:4] 20 fold : [0.01290695 1.        ]\n",
      "[root    |INFO|<ipython-input-15-65b4b58a34e1>:4] 21 fold : [0.0050812 1.       ]\n",
      "[root    |INFO|<ipython-input-15-65b4b58a34e1>:4] 22 fold : [0.01332806 1.        ]\n",
      "[root    |INFO|<ipython-input-15-65b4b58a34e1>:4] 23 fold : [0.00195076 1.        ]\n",
      "[root    |INFO|<ipython-input-15-65b4b58a34e1>:4] 24 fold : [0.05866873 1.        ]\n",
      "[root    |INFO|<ipython-input-15-65b4b58a34e1>:4] 25 fold : [1.80052098e-07 1.00000000e+00]\n",
      "[root    |INFO|<ipython-input-15-65b4b58a34e1>:4] 26 fold : [0.01488186 1.        ]\n",
      "[root    |INFO|<ipython-input-15-65b4b58a34e1>:4] 27 fold : [0.03111255 1.        ]\n",
      "[root    |INFO|<ipython-input-15-65b4b58a34e1>:4] 28 fold : [0.01445574 1.        ]\n",
      "[root    |INFO|<ipython-input-15-65b4b58a34e1>:4] 29 fold : [5.03015258e-07 1.00000000e+00]\n",
      "[root    |INFO|<ipython-input-15-65b4b58a34e1>:5] Mean   : [0.03258183 1.        ]\n",
      "[root    |INFO|<ipython-input-15-65b4b58a34e1>:6] Std   : [0.05741054 0.        ]\n"
     ]
    }
   ],
   "source": [
    "evaluation = np.load('%s/test_eval.npy' % model_path)\n",
    "log.info('\\t %s'%' '.join(['%s' % name for name in y_names]))\n",
    "\n",
    "_ = [log.info('%d fold : %s' % (i,line)) for i, line in enumerate(evaluation)]\n",
    "log.info('Mean   : %s' % np.mean(evaluation, axis=0))\n",
    "log.info('Std   : %s' % np.std(evaluation, axis=0))\n",
    "\n",
    "# _ = [print('%d fold & %s \\\\tabularnewline' % (i, ' & '.join(['%.3f'% v for v in line]))) for i, line in enumerate(evaluation)]\n",
    "# print('Mean & %s \\\\tabularnewline' % (' & '.join(['%.3f'% v for v in np.mean(evaluation, axis=0)])))\n",
    "# print('Sd & %s \\\\tabularnewline' % (' & '.join(['%.3f'% v for v in np.std(evaluation, axis=0)])))"
   ]
  },
  {
   "cell_type": "markdown",
   "metadata": {},
   "source": [
    "### Test Correlation"
   ]
  },
  {
   "cell_type": "code",
   "execution_count": 16,
   "metadata": {
    "scrolled": true
   },
   "outputs": [
    {
     "name": "stderr",
     "output_type": "stream",
     "text": [
      "[root    |INFO|build_network.py:507] ------------------------------------------------------------------------------------------\n",
      "[root    |INFO|build_network.py:508] Read phylogenetic tree information from data/genus48/genus48_dic.csv\n",
      "[root    |INFO|build_network.py:512] Phylogenetic tree level list: ['Genus', 'Family', 'Order', 'Class', 'Phylum']\n",
      "[root    |INFO|build_network.py:513] ------------------------------------------------------------------------------------------\n",
      "[root    |INFO|build_network.py:518]      Genus: 48\n",
      "[root    |INFO|build_network.py:518]     Family: 40\n",
      "[root    |INFO|build_network.py:518]      Order: 23\n",
      "[root    |INFO|build_network.py:518]      Class: 17\n",
      "[root    |INFO|build_network.py:518]     Phylum: 9\n",
      "[root    |INFO|build_network.py:521] ------------------------------------------------------------------------------------------\n",
      "[root    |INFO|build_network.py:522] Phylogenetic_tree_dict info: ['Number', 'Phylum', 'Genus', 'Class', 'Family', 'Order']\n",
      "[root    |INFO|build_network.py:523] ------------------------------------------------------------------------------------------\n",
      "/DATA/home/muha/code/deepbiome/build_network.py:526: SettingWithCopyWarning: \n",
      "A value is trying to be set on a copy of a slice from a DataFrame.\n",
      "Try using .loc[row_indexer,col_indexer] = value instead\n",
      "\n",
      "See the caveats in the documentation: http://pandas.pydata.org/pandas-docs/stable/indexing.html#indexing-view-versus-copy\n",
      "  self.phylogenetic_tree[tree_lvl] = self.phylogenetic_tree[tree_lvl].map(self.phylogenetic_tree_dict[tree_lvl])\n",
      "/DATA/home/muha/code/deepbiome/build_network.py:526: SettingWithCopyWarning: \n",
      "A value is trying to be set on a copy of a slice from a DataFrame.\n",
      "Try using .loc[row_indexer,col_indexer] = value instead\n",
      "\n",
      "See the caveats in the documentation: http://pandas.pydata.org/pandas-docs/stable/indexing.html#indexing-view-versus-copy\n",
      "  self.phylogenetic_tree[tree_lvl] = self.phylogenetic_tree[tree_lvl].map(self.phylogenetic_tree_dict[tree_lvl])\n",
      "/DATA/home/muha/code/deepbiome/build_network.py:526: SettingWithCopyWarning: \n",
      "A value is trying to be set on a copy of a slice from a DataFrame.\n",
      "Try using .loc[row_indexer,col_indexer] = value instead\n",
      "\n",
      "See the caveats in the documentation: http://pandas.pydata.org/pandas-docs/stable/indexing.html#indexing-view-versus-copy\n",
      "  self.phylogenetic_tree[tree_lvl] = self.phylogenetic_tree[tree_lvl].map(self.phylogenetic_tree_dict[tree_lvl])\n",
      "/DATA/home/muha/code/deepbiome/build_network.py:526: SettingWithCopyWarning: \n",
      "A value is trying to be set on a copy of a slice from a DataFrame.\n",
      "Try using .loc[row_indexer,col_indexer] = value instead\n",
      "\n",
      "See the caveats in the documentation: http://pandas.pydata.org/pandas-docs/stable/indexing.html#indexing-view-versus-copy\n",
      "  self.phylogenetic_tree[tree_lvl] = self.phylogenetic_tree[tree_lvl].map(self.phylogenetic_tree_dict[tree_lvl])\n",
      "/DATA/home/muha/code/deepbiome/build_network.py:526: SettingWithCopyWarning: \n",
      "A value is trying to be set on a copy of a slice from a DataFrame.\n",
      "Try using .loc[row_indexer,col_indexer] = value instead\n",
      "\n",
      "See the caveats in the documentation: http://pandas.pydata.org/pandas-docs/stable/indexing.html#indexing-view-versus-copy\n",
      "  self.phylogenetic_tree[tree_lvl] = self.phylogenetic_tree[tree_lvl].map(self.phylogenetic_tree_dict[tree_lvl])\n",
      "[root    |INFO|build_network.py:533] Build edge weights between [ Genus, Family]\n",
      "[root    |INFO|build_network.py:533] Build edge weights between [Family,  Order]\n",
      "[root    |INFO|build_network.py:533] Build edge weights between [ Order,  Class]\n",
      "[root    |INFO|build_network.py:533] Build edge weights between [ Class, Phylum]\n",
      "[root    |INFO|build_network.py:546] ------------------------------------------------------------------------------------------\n",
      "[root    |INFO|build_network.py:562] ------------------------------------------------------------------------------------------\n",
      "[root    |INFO|build_network.py:563] Build network based on phylogenetic tree information\n",
      "[root    |INFO|build_network.py:564] ------------------------------------------------------------------------------------------\n"
     ]
    },
    {
     "name": "stdout",
     "output_type": "stream",
     "text": [
      "WARNING:tensorflow:From /usr/local/lib/python3.5/dist-packages/tensorflow/python/framework/op_def_library.py:263: colocate_with (from tensorflow.python.framework.ops) is deprecated and will be removed in a future version.\n",
      "Instructions for updating:\n",
      "Colocations handled automatically by placer.\n"
     ]
    },
    {
     "name": "stderr",
     "output_type": "stream",
     "text": [
      "[tensorflow|WARNING|deprecation.py:328] From /usr/local/lib/python3.5/dist-packages/tensorflow/python/framework/op_def_library.py:263: colocate_with (from tensorflow.python.framework.ops) is deprecated and will be removed in a future version.\n",
      "Instructions for updating:\n",
      "Colocations handled automatically by placer.\n",
      "[root    |INFO|build_network.py:635] ------------------------------------------------------------------------------------------\n"
     ]
    },
    {
     "name": "stdout",
     "output_type": "stream",
     "text": [
      "_________________________________________________________________\n",
      "Layer (type)                 Output Shape              Param #   \n",
      "=================================================================\n",
      "input (InputLayer)           (None, 48)                0         \n",
      "_________________________________________________________________\n",
      "l1_dense (Dense_with_tree)   (None, 40)                1960      \n",
      "_________________________________________________________________\n",
      "l1_activation (Activation)   (None, 40)                0         \n",
      "_________________________________________________________________\n",
      "l2_dense (Dense_with_tree)   (None, 23)                943       \n",
      "_________________________________________________________________\n",
      "l2_activation (Activation)   (None, 23)                0         \n",
      "_________________________________________________________________\n",
      "l3_dense (Dense_with_tree)   (None, 17)                408       \n",
      "_________________________________________________________________\n",
      "l3_activation (Activation)   (None, 17)                0         \n",
      "_________________________________________________________________\n",
      "l4_dense (Dense_with_tree)   (None, 9)                 162       \n",
      "_________________________________________________________________\n",
      "l4_activation (Activation)   (None, 9)                 0         \n",
      "_________________________________________________________________\n",
      "last_dense_h (Dense)         (None, 1)                 10        \n",
      "_________________________________________________________________\n",
      "p_hat (Activation)           (None, 1)                 0         \n",
      "=================================================================\n",
      "Total params: 3,483\n",
      "Trainable params: 3,483\n",
      "Non-trainable params: 0\n",
      "_________________________________________________________________\n"
     ]
    },
    {
     "name": "stderr",
     "output_type": "stream",
     "text": [
      "[root    |INFO|build_network.py:56] Build Network\n",
      "[root    |INFO|build_network.py:57] Optimizer = adam\n",
      "[root    |INFO|build_network.py:58] Loss = mean_squared_error\n",
      "[root    |INFO|build_network.py:59] Metrics = correlation_coefficient\n"
     ]
    }
   ],
   "source": [
    "reader_class = getattr(readers, network_info['model_info']['reader_class'].strip())\n",
    "reader = reader_class(log, verbose=True)\n",
    "idxs = np.array(pd.read_csv(path_info['data_info']['idx_path'])-1, dtype=np.int)\n",
    "data_path = path_info['data_info']['data_path']\n",
    "x_path = np.array(['%s/%s'%(data_path, path_info['data_info']['x_path']) for fold in range(idxs.shape[1])])\n",
    "y_path = '%s/%s'%(data_path, path_info['data_info']['y_path'])\n",
    "\n",
    "model_weight_path = './%s/%s' % (model_path, path_info['model_info']['weight'])\n",
    "\n",
    "network_class = getattr(build_network, network_info['model_info']['network_class'].strip()) \n",
    "# network = network_class(network_info, path_info['data_info'], log, fold=0, num_classes=max(1,num_classes))\n",
    "network = network_class(network_info, path_info['data_info'], log, fold=0, num_classes=num_classes)\n",
    "network.model_compile()"
   ]
  },
  {
   "cell_type": "code",
   "execution_count": 17,
   "metadata": {},
   "outputs": [
    {
     "name": "stderr",
     "output_type": "stream",
     "text": [
      "[root    |INFO|readers.py:59] -----------------------------------------------------------------------\n",
      "[root    |INFO|readers.py:60] Construct Dataset\n",
      "[root    |INFO|readers.py:61] -----------------------------------------------------------------------\n",
      "[root    |INFO|readers.py:62] Load data\n",
      "[root    |INFO|build_network.py:191] Prediction start!\n"
     ]
    },
    {
     "name": "stdout",
     "output_type": "stream",
     "text": [
      "\r",
      "1/1 [==============================] - 0s 457ms/step\n"
     ]
    },
    {
     "name": "stderr",
     "output_type": "stream",
     "text": [
      "[root    |INFO|build_network.py:196] Prediction end with time 0.45960378646850586!\n",
      "[root    |INFO|readers.py:59] -----------------------------------------------------------------------\n",
      "[root    |INFO|readers.py:60] Construct Dataset\n",
      "[root    |INFO|readers.py:61] -----------------------------------------------------------------------\n",
      "[root    |INFO|readers.py:62] Load data\n",
      "[root    |INFO|build_network.py:191] Prediction start!\n"
     ]
    },
    {
     "name": "stdout",
     "output_type": "stream",
     "text": [
      "\r",
      "1/1 [==============================] - 0s 998us/step\n"
     ]
    },
    {
     "name": "stderr",
     "output_type": "stream",
     "text": [
      "[root    |INFO|build_network.py:196] Prediction end with time 0.0030803680419921875!\n",
      "[root    |INFO|readers.py:59] -----------------------------------------------------------------------\n",
      "[root    |INFO|readers.py:60] Construct Dataset\n",
      "[root    |INFO|readers.py:61] -----------------------------------------------------------------------\n",
      "[root    |INFO|readers.py:62] Load data\n",
      "[root    |INFO|build_network.py:191] Prediction start!\n"
     ]
    },
    {
     "name": "stdout",
     "output_type": "stream",
     "text": [
      "\r",
      "1/1 [==============================] - 0s 3ms/step\n"
     ]
    },
    {
     "name": "stderr",
     "output_type": "stream",
     "text": [
      "[root    |INFO|build_network.py:196] Prediction end with time 0.00426793098449707!\n",
      "[root    |INFO|readers.py:59] -----------------------------------------------------------------------\n",
      "[root    |INFO|readers.py:60] Construct Dataset\n",
      "[root    |INFO|readers.py:61] -----------------------------------------------------------------------\n",
      "[root    |INFO|readers.py:62] Load data\n",
      "[root    |INFO|build_network.py:191] Prediction start!\n"
     ]
    },
    {
     "name": "stdout",
     "output_type": "stream",
     "text": [
      "\r",
      "1/1 [==============================] - 0s 723us/step\n"
     ]
    },
    {
     "name": "stderr",
     "output_type": "stream",
     "text": [
      "[root    |INFO|build_network.py:196] Prediction end with time 0.0030183792114257812!\n",
      "[root    |INFO|readers.py:59] -----------------------------------------------------------------------\n",
      "[root    |INFO|readers.py:60] Construct Dataset\n",
      "[root    |INFO|readers.py:61] -----------------------------------------------------------------------\n",
      "[root    |INFO|readers.py:62] Load data\n",
      "[root    |INFO|build_network.py:191] Prediction start!\n"
     ]
    },
    {
     "name": "stdout",
     "output_type": "stream",
     "text": [
      "\r",
      "1/1 [==============================] - 0s 7ms/step\n"
     ]
    },
    {
     "name": "stderr",
     "output_type": "stream",
     "text": [
      "[root    |INFO|build_network.py:196] Prediction end with time 0.008323907852172852!\n",
      "[root    |INFO|readers.py:59] -----------------------------------------------------------------------\n",
      "[root    |INFO|readers.py:60] Construct Dataset\n",
      "[root    |INFO|readers.py:61] -----------------------------------------------------------------------\n",
      "[root    |INFO|readers.py:62] Load data\n",
      "[root    |INFO|build_network.py:191] Prediction start!\n"
     ]
    },
    {
     "name": "stdout",
     "output_type": "stream",
     "text": [
      "\r",
      "1/1 [==============================] - 0s 1ms/step\n"
     ]
    },
    {
     "name": "stderr",
     "output_type": "stream",
     "text": [
      "[root    |INFO|build_network.py:196] Prediction end with time 0.0024566650390625!\n",
      "[root    |INFO|readers.py:59] -----------------------------------------------------------------------\n",
      "[root    |INFO|readers.py:60] Construct Dataset\n",
      "[root    |INFO|readers.py:61] -----------------------------------------------------------------------\n",
      "[root    |INFO|readers.py:62] Load data\n",
      "[root    |INFO|build_network.py:191] Prediction start!\n"
     ]
    },
    {
     "name": "stdout",
     "output_type": "stream",
     "text": [
      "\r",
      "1/1 [==============================] - 0s 2ms/step\n"
     ]
    },
    {
     "name": "stderr",
     "output_type": "stream",
     "text": [
      "[root    |INFO|build_network.py:196] Prediction end with time 0.0039060115814208984!\n",
      "[root    |INFO|readers.py:59] -----------------------------------------------------------------------\n",
      "[root    |INFO|readers.py:60] Construct Dataset\n",
      "[root    |INFO|readers.py:61] -----------------------------------------------------------------------\n",
      "[root    |INFO|readers.py:62] Load data\n",
      "[root    |INFO|build_network.py:191] Prediction start!\n"
     ]
    },
    {
     "name": "stdout",
     "output_type": "stream",
     "text": [
      "\r",
      "1/1 [==============================] - 0s 1ms/step\n"
     ]
    },
    {
     "name": "stderr",
     "output_type": "stream",
     "text": [
      "[root    |INFO|build_network.py:196] Prediction end with time 0.002087831497192383!\n",
      "[root    |INFO|readers.py:59] -----------------------------------------------------------------------\n",
      "[root    |INFO|readers.py:60] Construct Dataset\n",
      "[root    |INFO|readers.py:61] -----------------------------------------------------------------------\n",
      "[root    |INFO|readers.py:62] Load data\n",
      "[root    |INFO|build_network.py:191] Prediction start!\n"
     ]
    },
    {
     "name": "stdout",
     "output_type": "stream",
     "text": [
      "\r",
      "1/1 [==============================] - 0s 1ms/step\n"
     ]
    },
    {
     "name": "stderr",
     "output_type": "stream",
     "text": [
      "[root    |INFO|build_network.py:196] Prediction end with time 0.0023775100708007812!\n",
      "[root    |INFO|readers.py:59] -----------------------------------------------------------------------\n",
      "[root    |INFO|readers.py:60] Construct Dataset\n",
      "[root    |INFO|readers.py:61] -----------------------------------------------------------------------\n",
      "[root    |INFO|readers.py:62] Load data\n",
      "[root    |INFO|build_network.py:191] Prediction start!\n"
     ]
    },
    {
     "name": "stdout",
     "output_type": "stream",
     "text": [
      "\r",
      "1/1 [==============================] - 0s 2ms/step\n"
     ]
    },
    {
     "name": "stderr",
     "output_type": "stream",
     "text": [
      "[root    |INFO|build_network.py:196] Prediction end with time 0.002636432647705078!\n",
      "[root    |INFO|readers.py:59] -----------------------------------------------------------------------\n",
      "[root    |INFO|readers.py:60] Construct Dataset\n",
      "[root    |INFO|readers.py:61] -----------------------------------------------------------------------\n",
      "[root    |INFO|readers.py:62] Load data\n",
      "[root    |INFO|build_network.py:191] Prediction start!\n"
     ]
    },
    {
     "name": "stdout",
     "output_type": "stream",
     "text": [
      "\r",
      "1/1 [==============================] - 0s 4ms/step\n"
     ]
    },
    {
     "name": "stderr",
     "output_type": "stream",
     "text": [
      "[root    |INFO|build_network.py:196] Prediction end with time 0.004621028900146484!\n",
      "[root    |INFO|readers.py:59] -----------------------------------------------------------------------\n",
      "[root    |INFO|readers.py:60] Construct Dataset\n",
      "[root    |INFO|readers.py:61] -----------------------------------------------------------------------\n",
      "[root    |INFO|readers.py:62] Load data\n",
      "[root    |INFO|build_network.py:191] Prediction start!\n"
     ]
    },
    {
     "name": "stdout",
     "output_type": "stream",
     "text": [
      "\r",
      "1/1 [==============================] - 0s 850us/step\n"
     ]
    },
    {
     "name": "stderr",
     "output_type": "stream",
     "text": [
      "[root    |INFO|build_network.py:196] Prediction end with time 0.0019903182983398438!\n",
      "[root    |INFO|readers.py:59] -----------------------------------------------------------------------\n",
      "[root    |INFO|readers.py:60] Construct Dataset\n",
      "[root    |INFO|readers.py:61] -----------------------------------------------------------------------\n",
      "[root    |INFO|readers.py:62] Load data\n",
      "[root    |INFO|build_network.py:191] Prediction start!\n"
     ]
    },
    {
     "name": "stdout",
     "output_type": "stream",
     "text": [
      "\r",
      "1/1 [==============================] - 0s 679us/step\n"
     ]
    },
    {
     "name": "stderr",
     "output_type": "stream",
     "text": [
      "[root    |INFO|build_network.py:196] Prediction end with time 0.001674652099609375!\n",
      "[root    |INFO|readers.py:59] -----------------------------------------------------------------------\n",
      "[root    |INFO|readers.py:60] Construct Dataset\n",
      "[root    |INFO|readers.py:61] -----------------------------------------------------------------------\n",
      "[root    |INFO|readers.py:62] Load data\n",
      "[root    |INFO|build_network.py:191] Prediction start!\n"
     ]
    },
    {
     "name": "stdout",
     "output_type": "stream",
     "text": [
      "\r",
      "1/1 [==============================] - 0s 3ms/step\n"
     ]
    },
    {
     "name": "stderr",
     "output_type": "stream",
     "text": [
      "[root    |INFO|build_network.py:196] Prediction end with time 0.0057239532470703125!\n",
      "[root    |INFO|readers.py:59] -----------------------------------------------------------------------\n",
      "[root    |INFO|readers.py:60] Construct Dataset\n",
      "[root    |INFO|readers.py:61] -----------------------------------------------------------------------\n",
      "[root    |INFO|readers.py:62] Load data\n",
      "[root    |INFO|build_network.py:191] Prediction start!\n"
     ]
    },
    {
     "name": "stdout",
     "output_type": "stream",
     "text": [
      "\r",
      "1/1 [==============================] - 0s 2ms/step\n"
     ]
    },
    {
     "name": "stderr",
     "output_type": "stream",
     "text": [
      "[root    |INFO|build_network.py:196] Prediction end with time 0.0032126903533935547!\n",
      "[root    |INFO|readers.py:59] -----------------------------------------------------------------------\n",
      "[root    |INFO|readers.py:60] Construct Dataset\n",
      "[root    |INFO|readers.py:61] -----------------------------------------------------------------------\n",
      "[root    |INFO|readers.py:62] Load data\n",
      "[root    |INFO|build_network.py:191] Prediction start!\n"
     ]
    },
    {
     "name": "stdout",
     "output_type": "stream",
     "text": [
      "\r",
      "1/1 [==============================] - 0s 999us/step\n"
     ]
    },
    {
     "name": "stderr",
     "output_type": "stream",
     "text": [
      "[root    |INFO|build_network.py:196] Prediction end with time 0.004621982574462891!\n",
      "[root    |INFO|readers.py:59] -----------------------------------------------------------------------\n",
      "[root    |INFO|readers.py:60] Construct Dataset\n",
      "[root    |INFO|readers.py:61] -----------------------------------------------------------------------\n",
      "[root    |INFO|readers.py:62] Load data\n",
      "[root    |INFO|build_network.py:191] Prediction start!\n"
     ]
    },
    {
     "name": "stdout",
     "output_type": "stream",
     "text": [
      "\r",
      "1/1 [==============================] - 0s 7ms/step\n"
     ]
    },
    {
     "name": "stderr",
     "output_type": "stream",
     "text": [
      "[root    |INFO|build_network.py:196] Prediction end with time 0.008241891860961914!\n",
      "[root    |INFO|readers.py:59] -----------------------------------------------------------------------\n",
      "[root    |INFO|readers.py:60] Construct Dataset\n",
      "[root    |INFO|readers.py:61] -----------------------------------------------------------------------\n",
      "[root    |INFO|readers.py:62] Load data\n",
      "[root    |INFO|build_network.py:191] Prediction start!\n"
     ]
    },
    {
     "name": "stdout",
     "output_type": "stream",
     "text": [
      "\r",
      "1/1 [==============================] - 0s 786us/step\n"
     ]
    },
    {
     "name": "stderr",
     "output_type": "stream",
     "text": [
      "[root    |INFO|build_network.py:196] Prediction end with time 0.001814126968383789!\n",
      "[root    |INFO|readers.py:59] -----------------------------------------------------------------------\n",
      "[root    |INFO|readers.py:60] Construct Dataset\n",
      "[root    |INFO|readers.py:61] -----------------------------------------------------------------------\n",
      "[root    |INFO|readers.py:62] Load data\n",
      "[root    |INFO|build_network.py:191] Prediction start!\n"
     ]
    },
    {
     "name": "stdout",
     "output_type": "stream",
     "text": [
      "\r",
      "1/1 [==============================] - 0s 1ms/step\n"
     ]
    },
    {
     "name": "stderr",
     "output_type": "stream",
     "text": [
      "[root    |INFO|build_network.py:196] Prediction end with time 0.002742290496826172!\n",
      "[root    |INFO|readers.py:59] -----------------------------------------------------------------------\n",
      "[root    |INFO|readers.py:60] Construct Dataset\n",
      "[root    |INFO|readers.py:61] -----------------------------------------------------------------------\n",
      "[root    |INFO|readers.py:62] Load data\n",
      "[root    |INFO|build_network.py:191] Prediction start!\n"
     ]
    },
    {
     "name": "stdout",
     "output_type": "stream",
     "text": [
      "\r",
      "1/1 [==============================] - 0s 2ms/step\n"
     ]
    },
    {
     "name": "stderr",
     "output_type": "stream",
     "text": [
      "[root    |INFO|build_network.py:196] Prediction end with time 0.0039768218994140625!\n",
      "[root    |INFO|readers.py:59] -----------------------------------------------------------------------\n",
      "[root    |INFO|readers.py:60] Construct Dataset\n",
      "[root    |INFO|readers.py:61] -----------------------------------------------------------------------\n",
      "[root    |INFO|readers.py:62] Load data\n",
      "[root    |INFO|build_network.py:191] Prediction start!\n"
     ]
    },
    {
     "name": "stdout",
     "output_type": "stream",
     "text": [
      "\r",
      "1/1 [==============================] - 0s 756us/step\n"
     ]
    },
    {
     "name": "stderr",
     "output_type": "stream",
     "text": [
      "[root    |INFO|build_network.py:196] Prediction end with time 0.0018279552459716797!\n",
      "[root    |INFO|readers.py:59] -----------------------------------------------------------------------\n",
      "[root    |INFO|readers.py:60] Construct Dataset\n",
      "[root    |INFO|readers.py:61] -----------------------------------------------------------------------\n",
      "[root    |INFO|readers.py:62] Load data\n",
      "[root    |INFO|build_network.py:191] Prediction start!\n"
     ]
    },
    {
     "name": "stdout",
     "output_type": "stream",
     "text": [
      "\r",
      "1/1 [==============================] - 0s 3ms/step\n"
     ]
    },
    {
     "name": "stderr",
     "output_type": "stream",
     "text": [
      "[root    |INFO|build_network.py:196] Prediction end with time 0.004260063171386719!\n",
      "[root    |INFO|readers.py:59] -----------------------------------------------------------------------\n",
      "[root    |INFO|readers.py:60] Construct Dataset\n",
      "[root    |INFO|readers.py:61] -----------------------------------------------------------------------\n",
      "[root    |INFO|readers.py:62] Load data\n",
      "[root    |INFO|build_network.py:191] Prediction start!\n"
     ]
    },
    {
     "name": "stdout",
     "output_type": "stream",
     "text": [
      "\r",
      "1/1 [==============================] - 0s 9ms/step\n"
     ]
    },
    {
     "name": "stderr",
     "output_type": "stream",
     "text": [
      "[root    |INFO|build_network.py:196] Prediction end with time 0.012299299240112305!\n",
      "[root    |INFO|readers.py:59] -----------------------------------------------------------------------\n",
      "[root    |INFO|readers.py:60] Construct Dataset\n",
      "[root    |INFO|readers.py:61] -----------------------------------------------------------------------\n",
      "[root    |INFO|readers.py:62] Load data\n",
      "[root    |INFO|build_network.py:191] Prediction start!\n"
     ]
    },
    {
     "name": "stdout",
     "output_type": "stream",
     "text": [
      "\r",
      "1/1 [==============================] - 0s 929us/step\n"
     ]
    },
    {
     "name": "stderr",
     "output_type": "stream",
     "text": [
      "[root    |INFO|build_network.py:196] Prediction end with time 0.0025038719177246094!\n",
      "[root    |INFO|readers.py:59] -----------------------------------------------------------------------\n",
      "[root    |INFO|readers.py:60] Construct Dataset\n",
      "[root    |INFO|readers.py:61] -----------------------------------------------------------------------\n",
      "[root    |INFO|readers.py:62] Load data\n",
      "[root    |INFO|build_network.py:191] Prediction start!\n"
     ]
    },
    {
     "name": "stdout",
     "output_type": "stream",
     "text": [
      "\r",
      "1/1 [==============================] - 0s 1ms/step\n"
     ]
    },
    {
     "name": "stderr",
     "output_type": "stream",
     "text": [
      "[root    |INFO|build_network.py:196] Prediction end with time 0.0021514892578125!\n",
      "[root    |INFO|readers.py:59] -----------------------------------------------------------------------\n",
      "[root    |INFO|readers.py:60] Construct Dataset\n",
      "[root    |INFO|readers.py:61] -----------------------------------------------------------------------\n",
      "[root    |INFO|readers.py:62] Load data\n",
      "[root    |INFO|build_network.py:191] Prediction start!\n"
     ]
    },
    {
     "name": "stdout",
     "output_type": "stream",
     "text": [
      "\r",
      "1/1 [==============================] - 0s 853us/step\n"
     ]
    },
    {
     "name": "stderr",
     "output_type": "stream",
     "text": [
      "[root    |INFO|build_network.py:196] Prediction end with time 0.0018112659454345703!\n",
      "[root    |INFO|readers.py:59] -----------------------------------------------------------------------\n",
      "[root    |INFO|readers.py:60] Construct Dataset\n",
      "[root    |INFO|readers.py:61] -----------------------------------------------------------------------\n",
      "[root    |INFO|readers.py:62] Load data\n",
      "[root    |INFO|build_network.py:191] Prediction start!\n"
     ]
    },
    {
     "name": "stdout",
     "output_type": "stream",
     "text": [
      "\r",
      "1/1 [==============================] - 0s 1ms/step\n"
     ]
    },
    {
     "name": "stderr",
     "output_type": "stream",
     "text": [
      "[root    |INFO|build_network.py:196] Prediction end with time 0.003078937530517578!\n",
      "[root    |INFO|readers.py:59] -----------------------------------------------------------------------\n",
      "[root    |INFO|readers.py:60] Construct Dataset\n",
      "[root    |INFO|readers.py:61] -----------------------------------------------------------------------\n",
      "[root    |INFO|readers.py:62] Load data\n",
      "[root    |INFO|build_network.py:191] Prediction start!\n"
     ]
    },
    {
     "name": "stdout",
     "output_type": "stream",
     "text": [
      "\r",
      "1/1 [==============================] - 0s 599us/step\n"
     ]
    },
    {
     "name": "stderr",
     "output_type": "stream",
     "text": [
      "[root    |INFO|build_network.py:196] Prediction end with time 0.0016603469848632812!\n",
      "[root    |INFO|readers.py:59] -----------------------------------------------------------------------\n",
      "[root    |INFO|readers.py:60] Construct Dataset\n",
      "[root    |INFO|readers.py:61] -----------------------------------------------------------------------\n",
      "[root    |INFO|readers.py:62] Load data\n",
      "[root    |INFO|build_network.py:191] Prediction start!\n"
     ]
    },
    {
     "name": "stdout",
     "output_type": "stream",
     "text": [
      "\r",
      "1/1 [==============================] - 0s 3ms/step\n"
     ]
    },
    {
     "name": "stderr",
     "output_type": "stream",
     "text": [
      "[root    |INFO|build_network.py:196] Prediction end with time 0.013902902603149414!\n",
      "[root    |INFO|readers.py:59] -----------------------------------------------------------------------\n",
      "[root    |INFO|readers.py:60] Construct Dataset\n",
      "[root    |INFO|readers.py:61] -----------------------------------------------------------------------\n",
      "[root    |INFO|readers.py:62] Load data\n",
      "[root    |INFO|build_network.py:191] Prediction start!\n"
     ]
    },
    {
     "name": "stdout",
     "output_type": "stream",
     "text": [
      "\r",
      "1/1 [==============================] - 0s 2ms/step\n"
     ]
    },
    {
     "name": "stderr",
     "output_type": "stream",
     "text": [
      "[root    |INFO|build_network.py:196] Prediction end with time 0.0044155120849609375!\n"
     ]
    }
   ],
   "source": [
    "pred_y_list = []\n",
    "true_pred_y_list = []\n",
    "for fold in range(kfold):\n",
    "    reader.read_dataset(x_path[fold], y_path, fold)\n",
    "    x_train, x_test, y_train, y_test = reader.get_dataset(idxs[:,fold])\n",
    "    network.fold = fold\n",
    "    network.load_weights(file_path_fold(model_weight_path, fold), verbose=False)\n",
    "    y_pred = network.predict(x_test)\n",
    "    true_pred_y_list.append(y_test)\n",
    "    pred_y_list.append(y_pred)\n",
    "true_pred_y_list = np.squeeze(np.array(true_pred_y_list))\n",
    "pred_y_list = np.squeeze(np.array(pred_y_list))"
   ]
  },
  {
   "cell_type": "code",
   "execution_count": 18,
   "metadata": {
    "scrolled": true
   },
   "outputs": [
    {
     "name": "stdout",
     "output_type": "stream",
     "text": [
      "test corr:     0.027 ( with p-value      0.888)\n"
     ]
    }
   ],
   "source": [
    "print('test corr:%10.3f ( with p-value %10.3f)' % pearsonr(pred_y_list, true_pred_y_list))"
   ]
  },
  {
   "cell_type": "code",
   "execution_count": 19,
   "metadata": {},
   "outputs": [
    {
     "data": {
      "text/plain": [
       "Text(0,0.5,'True')"
      ]
     },
     "execution_count": 19,
     "metadata": {},
     "output_type": "execute_result"
    },
    {
     "data": {
      "image/png": "[encoded data removed]",
      "text/plain": [
       "<matplotlib.figure.Figure at 0x7f929c264780>"
      ]
     },
     "metadata": {},
     "output_type": "display_data"
    }
   ],
   "source": [
    "plt.scatter(pred_y_list, true_pred_y_list)\n",
    "plt.xlabel('Pred')\n",
    "plt.ylabel('True')"
   ]
  },
  {
   "cell_type": "code",
   "execution_count": 20,
   "metadata": {},
   "outputs": [
    {
     "data": {
      "text/plain": [
       "array([0.91, 1.01, 0.92, 0.78, 1.03, 1.4 , 1.28, 0.95, 0.86, 0.99, 0.69,\n",
       "       0.76, 0.8 , 1.14, 0.82, 1.36, 1.01, 0.81, 0.99, 1.1 , 1.03, 0.98,\n",
       "       0.8 , 0.96, 1.13, 0.92, 0.83, 0.77, 0.93, 0.92], dtype=float32)"
      ]
     },
     "execution_count": 20,
     "metadata": {},
     "output_type": "execute_result"
    }
   ],
   "source": [
    "true_pred_y_list"
   ]
  },
  {
   "cell_type": "code",
   "execution_count": 21,
   "metadata": {},
   "outputs": [
    {
     "data": {
      "text/plain": [
       "array([0.926209  , 0.90861654, 0.91659343, 0.9104741 , 0.9266338 ,\n",
       "       0.91241795, 0.90993685, 0.9070653 , 0.9135395 , 0.91639566,\n",
       "       0.8080045 , 0.904925  , 0.9130008 , 0.8497    , 0.9161781 ,\n",
       "       0.9119614 , 0.9168492 , 0.91455543, 0.9114827 , 0.9148986 ,\n",
       "       0.9163912 , 0.9087175 , 0.91544724, 0.9158325 , 0.8877837 ,\n",
       "       0.92042434, 0.9519912 , 0.94638747, 0.80976796, 0.92070925],\n",
       "      dtype=float32)"
      ]
     },
     "execution_count": 21,
     "metadata": {},
     "output_type": "execute_result"
    }
   ],
   "source": [
    "pred_y_list"
   ]
  },
  {
   "cell_type": "code",
   "execution_count": 23,
   "metadata": {},
   "outputs": [
    {
     "data": {
      "text/plain": [
       "0.032581825"
      ]
     },
     "execution_count": 23,
     "metadata": {},
     "output_type": "execute_result"
    }
   ],
   "source": [
    "np.mean(np.square(pred_y_list - true_pred_y_list))"
   ]
  }
 ],
 "metadata": {
  "anaconda-cloud": {},
  "kernelspec": {
   "display_name": "Python 3",
   "language": "python",
   "name": "python3"
  },
  "language_info": {
   "codemirror_mode": {
    "name": "ipython",
    "version": 3
   },
   "file_extension": ".py",
   "mimetype": "text/x-python",
   "name": "python",
   "nbconvert_exporter": "python",
   "pygments_lexer": "ipython3",
   "version": "3.5.2"
  }
 },
 "nbformat": 4,
 "nbformat_minor": 2
}
