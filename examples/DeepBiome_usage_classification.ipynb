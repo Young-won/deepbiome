{
 "cells": [
  {
   "cell_type": "markdown",
   "metadata": {},
   "source": [
    "# Getting start with the classification problem.\n",
    "\n",
    "Let's start with the baby step example for classification problem.\n",
    "Below is the basic example of the configuration for binary classification problem using example data contained in the package. For the required data type or more detailed configuration, please check the detailed information about each option in the [documantation](https://young-won.github.io/deepbiome/prerequisites.html#configuration) and the detailed [examples](https://young-won.github.io/deepbiome/example_with_the_list_of_inputs.html)"
   ]
  },
  {
   "cell_type": "code",
   "execution_count": 1,
   "metadata": {
    "collapsed": true
   },
   "outputs": [],
   "source": [
    "from pkg_resources import resource_filename"
   ]
  },
  {
   "cell_type": "code",
   "execution_count": 2,
   "metadata": {
    "collapsed": true
   },
   "outputs": [],
   "source": [
    "network_info = {\n",
    "    'architecture_info': {\n",
    "        'batch_normalization': 'False',\n",
    "        'drop_out': '0',\n",
    "        'weight_initial': 'glorot_uniform',\n",
    "        'weight_l1_penalty':'0.01',\n",
    "        'weight_decay': 'phylogenetic_tree',\n",
    "    },\n",
    "    'model_info': {\n",
    "        'decay': '0.001',\n",
    "        'loss': 'binary_crossentropy',\n",
    "        'lr': '0.01',\n",
    "        'metrics': 'binary_accuracy, sensitivity, specificity, gmeasure, auc',\n",
    "        'network_class': 'DeepBiomeNetwork',\n",
    "        'normalizer': 'normalize_minmax',\n",
    "        'optimizer': 'adam',\n",
    "        'reader_class': 'MicroBiomeClassificationReader',\n",
    "        'taxa_selection_metrics': 'sensitivity, specificity, gmeasure, accuracy',\n",
    "    },\n",
    "    'training_info': {\n",
    "        'batch_size': '200', \n",
    "        'epochs': '10',\n",
    "        'callbacks': 'ModelCheckpoint',\n",
    "        'monitor': 'val_loss',\n",
    "        'mode' : 'min',\n",
    "        'min_delta': '1e-7',\n",
    "    },\n",
    "    'validation_info': {\n",
    "        'batch_size': 'None', \n",
    "        'validation_size': '0.2'\n",
    "    },\n",
    "    'test_info': {\n",
    "        'batch_size': 'None',\n",
    "    },\n",
    "}\n",
    "\n",
    "path_info = {\n",
    "    'data_info': {\n",
    "        'data_path': resource_filename('deepbiome', 'tests/data'),\n",
    "        'idx_path': resource_filename('deepbiome', 'tests/data/onefile_idx.csv'),\n",
    "        'tree_info_path': resource_filename('deepbiome', 'tests/data/genus48_dic.csv'),\n",
    "        'x_path': 'onefile_x.csv',\n",
    "        'y_path': 'classification_y.csv'\n",
    "    },\n",
    "    'model_info': {\n",
    "        'evaluation': 'eval.npy',\n",
    "        'history': 'hist.json',\n",
    "        'model_dir': './',\n",
    "        'weight': 'weight.h5'\n",
    "    }\n",
    "}"
   ]
  },
  {
   "cell_type": "markdown",
   "metadata": {},
   "source": [
    "For logging, we used the python logging library."
   ]
  },
  {
   "cell_type": "code",
   "execution_count": 3,
   "metadata": {
    "collapsed": true
   },
   "outputs": [],
   "source": [
    "import logging\n",
    "\n",
    "logging.basicConfig(format = '[%(name)-8s|%(levelname)s|%(filename)s:%(lineno)s] %(message)s',\n",
    "                    level=logging.DEBUG)\n",
    "log = logging.getLogger()"
   ]
  },
  {
   "cell_type": "markdown",
   "metadata": {},
   "source": [
    "Here is the `deepbiome.deepbiome_train` function for training:"
   ]
  },
  {
   "cell_type": "code",
   "execution_count": 4,
   "metadata": {
    "scrolled": true
   },
   "outputs": [
    {
     "name": "stderr",
     "output_type": "stream",
     "text": [
      "Using TensorFlow backend.\n",
      "[root    |INFO|deepbiome.py:100] -----------------------------------------------------------------\n",
      "[root    |INFO|deepbiome.py:137] -------1 simulation start!----------------------------------\n",
      "[root    |INFO|readers.py:57] -----------------------------------------------------------------------\n",
      "[root    |INFO|readers.py:58] Construct Dataset\n",
      "[root    |INFO|readers.py:59] -----------------------------------------------------------------------\n",
      "[root    |INFO|readers.py:60] Load data\n",
      "[root    |INFO|deepbiome.py:147] -----------------------------------------------------------------\n",
      "[root    |INFO|deepbiome.py:148] Build network for 1 simulation\n",
      "[root    |INFO|build_network.py:506] ------------------------------------------------------------------------------------------\n",
      "[root    |INFO|build_network.py:507] Read phylogenetic tree information from /DATA/home/muha/github_repos/deepbiome/deepbiome/tests/data/genus48_dic.csv\n",
      "[root    |INFO|build_network.py:512] Phylogenetic tree level list: ['Genus', 'Family', 'Order', 'Class', 'Phylum']\n",
      "[root    |INFO|build_network.py:513] ------------------------------------------------------------------------------------------\n",
      "[root    |INFO|build_network.py:520]      Genus: 48\n",
      "[root    |INFO|build_network.py:520]     Family: 40\n",
      "[root    |INFO|build_network.py:520]      Order: 23\n",
      "[root    |INFO|build_network.py:520]      Class: 17\n",
      "[root    |INFO|build_network.py:520]     Phylum: 9\n",
      "[root    |INFO|build_network.py:524] ------------------------------------------------------------------------------------------\n",
      "[root    |INFO|build_network.py:525] Phylogenetic_tree_dict info: ['Class', 'Genus', 'Number', 'Family', 'Order', 'Phylum']\n",
      "[root    |INFO|build_network.py:526] ------------------------------------------------------------------------------------------\n",
      "[root    |INFO|build_network.py:536] Build edge weights between [ Genus, Family]\n",
      "[root    |INFO|build_network.py:536] Build edge weights between [Family,  Order]\n",
      "[root    |INFO|build_network.py:536] Build edge weights between [ Order,  Class]\n",
      "[root    |INFO|build_network.py:536] Build edge weights between [ Class, Phylum]\n",
      "[root    |INFO|build_network.py:549] ------------------------------------------------------------------------------------------\n",
      "[root    |INFO|build_network.py:557] ------------------------------------------------------------------------------------------\n",
      "[root    |INFO|build_network.py:558] Build network based on phylogenetic tree information\n",
      "[root    |INFO|build_network.py:559] ------------------------------------------------------------------------------------------\n",
      "[tensorflow|WARNING|deprecation.py:328] From /usr/local/lib/python3.5/dist-packages/tensorflow/python/ops/resource_variable_ops.py:432: colocate_with (from tensorflow.python.framework.ops) is deprecated and will be removed in a future version.\n",
      "Instructions for updating:\n",
      "Colocations handled automatically by placer.\n",
      "[root    |INFO|build_network.py:636] ------------------------------------------------------------------------------------------\n"
     ]
    },
    {
     "name": "stdout",
     "output_type": "stream",
     "text": [
      "Model: \"model_1\"\n",
      "_________________________________________________________________\n",
      "Layer (type)                 Output Shape              Param #   \n",
      "=================================================================\n",
      "input (InputLayer)           (None, 48)                0         \n",
      "_________________________________________________________________\n",
      "l1_dense (Dense_with_tree)   (None, 40)                1960      \n",
      "_________________________________________________________________\n",
      "l1_activation (Activation)   (None, 40)                0         \n",
      "_________________________________________________________________\n",
      "l2_dense (Dense_with_tree)   (None, 23)                943       \n",
      "_________________________________________________________________\n",
      "l2_activation (Activation)   (None, 23)                0         \n",
      "_________________________________________________________________\n",
      "l3_dense (Dense_with_tree)   (None, 17)                408       \n",
      "_________________________________________________________________\n",
      "l3_activation (Activation)   (None, 17)                0         \n",
      "_________________________________________________________________\n",
      "l4_dense (Dense_with_tree)   (None, 9)                 162       \n",
      "_________________________________________________________________\n",
      "l4_activation (Activation)   (None, 9)                 0         \n",
      "_________________________________________________________________\n",
      "last_dense_h (Dense)         (None, 1)                 10        \n",
      "_________________________________________________________________\n",
      "p_hat (Activation)           (None, 1)                 0         \n",
      "=================================================================\n",
      "Total params: 3,483\n",
      "Trainable params: 3,483\n",
      "Non-trainable params: 0\n",
      "_________________________________________________________________\n"
     ]
    },
    {
     "name": "stderr",
     "output_type": "stream",
     "text": [
      "[root    |INFO|build_network.py:57] Build Network\n",
      "[root    |INFO|build_network.py:58] Optimizer = adam\n",
      "[root    |INFO|build_network.py:59] Loss = binary_crossentropy\n",
      "[root    |INFO|build_network.py:60] Metrics = binary_accuracy, sensitivity, specificity, gmeasure, auc\n",
      "[root    |INFO|deepbiome.py:157] -----------------------------------------------------------------\n",
      "[root    |INFO|deepbiome.py:158] 1 fold computing start!----------------------------------\n",
      "[root    |INFO|build_network.py:133] Training start!\n",
      "[tensorflow|WARNING|deprecation.py:328] From /usr/local/lib/python3.5/dist-packages/tensorflow/python/ops/math_ops.py:2862: to_int32 (from tensorflow.python.ops.math_ops) is deprecated and will be removed in a future version.\n",
      "Instructions for updating:\n",
      "Use tf.cast instead.\n"
     ]
    },
    {
     "name": "stdout",
     "output_type": "stream",
     "text": [
      "Train on 640 samples, validate on 160 samples\n",
      "Epoch 1/10\n",
      "640/640 [==============================] - 1s 1ms/step - loss: 0.6872 - binary_accuracy: 0.6750 - sensitivity: 0.9847 - specificity: 0.0072 - gmeasure: 0.0412 - auc: 0.4661 - val_loss: 0.6708 - val_binary_accuracy: 0.6938 - val_sensitivity: 1.0000 - val_specificity: 0.0000e+00 - val_gmeasure: 0.0000e+00 - val_auc: 0.4638\n",
      "Epoch 2/10\n",
      "640/640 [==============================] - 0s 76us/step - loss: 0.6668 - binary_accuracy: 0.6844 - sensitivity: 1.0000 - specificity: 0.0000e+00 - gmeasure: 0.0000e+00 - auc: 0.5575 - val_loss: 0.6486 - val_binary_accuracy: 0.6938 - val_sensitivity: 1.0000 - val_specificity: 0.0000e+00 - val_gmeasure: 0.0000e+00 - val_auc: 0.4292\n",
      "Epoch 3/10\n",
      "640/640 [==============================] - 0s 71us/step - loss: 0.6466 - binary_accuracy: 0.6844 - sensitivity: 1.0000 - specificity: 0.0000e+00 - gmeasure: 0.0000e+00 - auc: 0.5892 - val_loss: 0.6297 - val_binary_accuracy: 0.6938 - val_sensitivity: 1.0000 - val_specificity: 0.0000e+00 - val_gmeasure: 0.0000e+00 - val_auc: 0.4356\n",
      "Epoch 4/10\n",
      "640/640 [==============================] - 0s 73us/step - loss: 0.6318 - binary_accuracy: 0.6844 - sensitivity: 1.0000 - specificity: 0.0000e+00 - gmeasure: 0.0000e+00 - auc: 0.5951 - val_loss: 0.6188 - val_binary_accuracy: 0.6938 - val_sensitivity: 1.0000 - val_specificity: 0.0000e+00 - val_gmeasure: 0.0000e+00 - val_auc: 0.4420\n",
      "Epoch 5/10\n",
      "640/640 [==============================] - 0s 70us/step - loss: 0.6254 - binary_accuracy: 0.6844 - sensitivity: 1.0000 - specificity: 0.0000e+00 - gmeasure: 0.0000e+00 - auc: 0.5916 - val_loss: 0.6162 - val_binary_accuracy: 0.6938 - val_sensitivity: 1.0000 - val_specificity: 0.0000e+00 - val_gmeasure: 0.0000e+00 - val_auc: 0.4540\n",
      "Epoch 6/10\n",
      "640/640 [==============================] - 0s 77us/step - loss: 0.6248 - binary_accuracy: 0.6844 - sensitivity: 1.0000 - specificity: 0.0000e+00 - gmeasure: 0.0000e+00 - auc: 0.6458 - val_loss: 0.6184 - val_binary_accuracy: 0.6938 - val_sensitivity: 1.0000 - val_specificity: 0.0000e+00 - val_gmeasure: 0.0000e+00 - val_auc: 0.4698\n",
      "Epoch 7/10\n",
      "640/640 [==============================] - 0s 73us/step - loss: 0.6278 - binary_accuracy: 0.6844 - sensitivity: 1.0000 - specificity: 0.0000e+00 - gmeasure: 0.0000e+00 - auc: 0.6974 - val_loss: 0.6190 - val_binary_accuracy: 0.6938 - val_sensitivity: 1.0000 - val_specificity: 0.0000e+00 - val_gmeasure: 0.0000e+00 - val_auc: 0.4960\n",
      "Epoch 8/10\n",
      "640/640 [==============================] - 0s 72us/step - loss: 0.6282 - binary_accuracy: 0.6844 - sensitivity: 1.0000 - specificity: 0.0000e+00 - gmeasure: 0.0000e+00 - auc: 0.7014 - val_loss: 0.6180 - val_binary_accuracy: 0.6938 - val_sensitivity: 1.0000 - val_specificity: 0.0000e+00 - val_gmeasure: 0.0000e+00 - val_auc: 0.5292\n",
      "Epoch 9/10\n",
      "640/640 [==============================] - 0s 74us/step - loss: 0.6260 - binary_accuracy: 0.6844 - sensitivity: 1.0000 - specificity: 0.0000e+00 - gmeasure: 0.0000e+00 - auc: 0.7385 - val_loss: 0.6162 - val_binary_accuracy: 0.6938 - val_sensitivity: 1.0000 - val_specificity: 0.0000e+00 - val_gmeasure: 0.0000e+00 - val_auc: 0.5627\n",
      "Epoch 10/10\n",
      "640/640 [==============================] - 0s 66us/step - loss: 0.6236 - binary_accuracy: 0.6844 - sensitivity: 1.0000 - specificity: 0.0000e+00 - gmeasure: 0.0000e+00 - auc: 0.7905 - val_loss: 0.6162 - val_binary_accuracy: 0.6938 - val_sensitivity: 1.0000 - val_specificity: 0.0000e+00 - val_gmeasure: 0.0000e+00 - val_auc: 0.5951\n"
     ]
    },
    {
     "name": "stderr",
     "output_type": "stream",
     "text": [
      "[root    |INFO|build_network.py:83] Load trained model weight at ./weight_0.h5 \n",
      "[root    |INFO|build_network.py:143] Training end with time 3.435981273651123!\n",
      "[root    |INFO|build_network.py:79] Saved trained model weight at ./weight_0.h5 \n",
      "[root    |DEBUG|deepbiome.py:166] Save weight at ./weight_0.h5\n",
      "[root    |DEBUG|deepbiome.py:169] Save history at ./hist_0.json\n",
      "[root    |INFO|build_network.py:169] Evaluation start!\n"
     ]
    },
    {
     "name": "stdout",
     "output_type": "stream",
     "text": [
      "\r",
      "800/800 [==============================] - 0s 9us/step\n"
     ]
    },
    {
     "name": "stderr",
     "output_type": "stream",
     "text": [
      "[root    |INFO|build_network.py:174] Evaluation end with time 0.015033245086669922!\n",
      "[root    |INFO|build_network.py:175] Evaluation: [0.6220226883888245, 0.6862499713897705, 1.0, 0.0, 0.0, 0.7600091695785522]\n",
      "[root    |INFO|build_network.py:169] Evaluation start!\n"
     ]
    },
    {
     "name": "stdout",
     "output_type": "stream",
     "text": [
      "\r",
      "200/200 [==============================] - 0s 25us/step\n"
     ]
    },
    {
     "name": "stderr",
     "output_type": "stream",
     "text": [
      "[root    |INFO|build_network.py:174] Evaluation end with time 0.012362003326416016!\n",
      "[root    |INFO|build_network.py:175] Evaluation: [0.6190998554229736, 0.6899999976158142, 1.0, 0.0, 0.0, 0.7425198554992676]\n",
      "[root    |INFO|deepbiome.py:180] Compute time : 6.31894063949585\n",
      "[root    |INFO|deepbiome.py:181] 1 fold computing end!---------------------------------------------\n",
      "[root    |INFO|deepbiome.py:137] -------2 simulation start!----------------------------------\n",
      "[root    |INFO|readers.py:57] -----------------------------------------------------------------------\n",
      "[root    |INFO|readers.py:58] Construct Dataset\n",
      "[root    |INFO|readers.py:59] -----------------------------------------------------------------------\n",
      "[root    |INFO|readers.py:60] Load data\n",
      "[root    |INFO|deepbiome.py:147] -----------------------------------------------------------------\n",
      "[root    |INFO|deepbiome.py:148] Build network for 2 simulation\n",
      "[root    |INFO|build_network.py:506] ------------------------------------------------------------------------------------------\n",
      "[root    |INFO|build_network.py:507] Read phylogenetic tree information from /DATA/home/muha/github_repos/deepbiome/deepbiome/tests/data/genus48_dic.csv\n",
      "[root    |INFO|build_network.py:512] Phylogenetic tree level list: ['Genus', 'Family', 'Order', 'Class', 'Phylum']\n",
      "[root    |INFO|build_network.py:513] ------------------------------------------------------------------------------------------\n",
      "[root    |INFO|build_network.py:520]      Genus: 48\n",
      "[root    |INFO|build_network.py:520]     Family: 40\n",
      "[root    |INFO|build_network.py:520]      Order: 23\n",
      "[root    |INFO|build_network.py:520]      Class: 17\n",
      "[root    |INFO|build_network.py:520]     Phylum: 9\n",
      "[root    |INFO|build_network.py:524] ------------------------------------------------------------------------------------------\n",
      "[root    |INFO|build_network.py:525] Phylogenetic_tree_dict info: ['Class', 'Genus', 'Number', 'Family', 'Order', 'Phylum']\n",
      "[root    |INFO|build_network.py:526] ------------------------------------------------------------------------------------------\n",
      "[root    |INFO|build_network.py:536] Build edge weights between [ Genus, Family]\n",
      "[root    |INFO|build_network.py:536] Build edge weights between [Family,  Order]\n",
      "[root    |INFO|build_network.py:536] Build edge weights between [ Order,  Class]\n",
      "[root    |INFO|build_network.py:536] Build edge weights between [ Class, Phylum]\n",
      "[root    |INFO|build_network.py:549] ------------------------------------------------------------------------------------------\n",
      "[root    |INFO|build_network.py:557] ------------------------------------------------------------------------------------------\n",
      "[root    |INFO|build_network.py:558] Build network based on phylogenetic tree information\n",
      "[root    |INFO|build_network.py:559] ------------------------------------------------------------------------------------------\n",
      "[root    |INFO|build_network.py:636] ------------------------------------------------------------------------------------------\n"
     ]
    },
    {
     "name": "stdout",
     "output_type": "stream",
     "text": [
      "Model: \"model_1\"\n",
      "_________________________________________________________________\n",
      "Layer (type)                 Output Shape              Param #   \n",
      "=================================================================\n",
      "input (InputLayer)           (None, 48)                0         \n",
      "_________________________________________________________________\n",
      "l1_dense (Dense_with_tree)   (None, 40)                1960      \n",
      "_________________________________________________________________\n",
      "l1_activation (Activation)   (None, 40)                0         \n",
      "_________________________________________________________________\n",
      "l2_dense (Dense_with_tree)   (None, 23)                943       \n",
      "_________________________________________________________________\n",
      "l2_activation (Activation)   (None, 23)                0         \n",
      "_________________________________________________________________\n",
      "l3_dense (Dense_with_tree)   (None, 17)                408       \n",
      "_________________________________________________________________\n",
      "l3_activation (Activation)   (None, 17)                0         \n",
      "_________________________________________________________________\n",
      "l4_dense (Dense_with_tree)   (None, 9)                 162       \n",
      "_________________________________________________________________\n",
      "l4_activation (Activation)   (None, 9)                 0         \n",
      "_________________________________________________________________\n",
      "last_dense_h (Dense)         (None, 1)                 10        \n",
      "_________________________________________________________________\n",
      "p_hat (Activation)           (None, 1)                 0         \n",
      "=================================================================\n",
      "Total params: 3,483\n",
      "Trainable params: 3,483\n",
      "Non-trainable params: 0\n",
      "_________________________________________________________________\n"
     ]
    },
    {
     "name": "stderr",
     "output_type": "stream",
     "text": [
      "[root    |INFO|build_network.py:57] Build Network\n",
      "[root    |INFO|build_network.py:58] Optimizer = adam\n",
      "[root    |INFO|build_network.py:59] Loss = binary_crossentropy\n",
      "[root    |INFO|build_network.py:60] Metrics = binary_accuracy, sensitivity, specificity, gmeasure, auc\n",
      "[root    |INFO|deepbiome.py:157] -----------------------------------------------------------------\n",
      "[root    |INFO|deepbiome.py:158] 2 fold computing start!----------------------------------\n",
      "[root    |INFO|build_network.py:133] Training start!\n"
     ]
    },
    {
     "name": "stdout",
     "output_type": "stream",
     "text": [
      "Train on 640 samples, validate on 160 samples\n",
      "Epoch 1/10\n",
      "640/640 [==============================] - 1s 785us/step - loss: 0.6869 - binary_accuracy: 0.6906 - sensitivity: 0.9460 - specificity: 0.0574 - gmeasure: 0.1061 - auc: 0.5067 - val_loss: 0.6684 - val_binary_accuracy: 0.7375 - val_sensitivity: 1.0000 - val_specificity: 0.0000e+00 - val_gmeasure: 0.0000e+00 - val_auc: 0.5046\n",
      "Epoch 2/10\n",
      "640/640 [==============================] - 0s 72us/step - loss: 0.6644 - binary_accuracy: 0.7156 - sensitivity: 1.0000 - specificity: 0.0000e+00 - gmeasure: 0.0000e+00 - auc: 0.5049 - val_loss: 0.6401 - val_binary_accuracy: 0.7375 - val_sensitivity: 1.0000 - val_specificity: 0.0000e+00 - val_gmeasure: 0.0000e+00 - val_auc: 0.5071\n",
      "Epoch 3/10\n",
      "640/640 [==============================] - 0s 72us/step - loss: 0.6386 - binary_accuracy: 0.7156 - sensitivity: 1.0000 - specificity: 0.0000e+00 - gmeasure: 0.0000e+00 - auc: 0.5282 - val_loss: 0.6136 - val_binary_accuracy: 0.7375 - val_sensitivity: 1.0000 - val_specificity: 0.0000e+00 - val_gmeasure: 0.0000e+00 - val_auc: 0.5102\n",
      "Epoch 4/10\n",
      "640/640 [==============================] - 0s 75us/step - loss: 0.6162 - binary_accuracy: 0.7156 - sensitivity: 1.0000 - specificity: 0.0000e+00 - gmeasure: 0.0000e+00 - auc: 0.5213 - val_loss: 0.5909 - val_binary_accuracy: 0.7375 - val_sensitivity: 1.0000 - val_specificity: 0.0000e+00 - val_gmeasure: 0.0000e+00 - val_auc: 0.5176\n",
      "Epoch 5/10\n",
      "640/640 [==============================] - 0s 73us/step - loss: 0.6017 - binary_accuracy: 0.7156 - sensitivity: 1.0000 - specificity: 0.0000e+00 - gmeasure: 0.0000e+00 - auc: 0.4813 - val_loss: 0.5779 - val_binary_accuracy: 0.7375 - val_sensitivity: 1.0000 - val_specificity: 0.0000e+00 - val_gmeasure: 0.0000e+00 - val_auc: 0.5188\n",
      "Epoch 6/10\n",
      "640/640 [==============================] - 0s 73us/step - loss: 0.5979 - binary_accuracy: 0.7156 - sensitivity: 1.0000 - specificity: 0.0000e+00 - gmeasure: 0.0000e+00 - auc: 0.5115 - val_loss: 0.5758 - val_binary_accuracy: 0.7375 - val_sensitivity: 1.0000 - val_specificity: 0.0000e+00 - val_gmeasure: 0.0000e+00 - val_auc: 0.5163\n",
      "Epoch 7/10\n",
      "640/640 [==============================] - 0s 75us/step - loss: 0.5997 - binary_accuracy: 0.7156 - sensitivity: 1.0000 - specificity: 0.0000e+00 - gmeasure: 0.0000e+00 - auc: 0.4661 - val_loss: 0.5763 - val_binary_accuracy: 0.7375 - val_sensitivity: 1.0000 - val_specificity: 0.0000e+00 - val_gmeasure: 0.0000e+00 - val_auc: 0.5141\n",
      "Epoch 8/10\n",
      "640/640 [==============================] - 0s 76us/step - loss: 0.6003 - binary_accuracy: 0.7156 - sensitivity: 1.0000 - specificity: 0.0000e+00 - gmeasure: 0.0000e+00 - auc: 0.5192 - val_loss: 0.5758 - val_binary_accuracy: 0.7375 - val_sensitivity: 1.0000 - val_specificity: 0.0000e+00 - val_gmeasure: 0.0000e+00 - val_auc: 0.5099\n",
      "Epoch 9/10\n",
      "640/640 [==============================] - 0s 68us/step - loss: 0.5988 - binary_accuracy: 0.7156 - sensitivity: 1.0000 - specificity: 0.0000e+00 - gmeasure: 0.0000e+00 - auc: 0.4937 - val_loss: 0.5758 - val_binary_accuracy: 0.7375 - val_sensitivity: 1.0000 - val_specificity: 0.0000e+00 - val_gmeasure: 0.0000e+00 - val_auc: 0.5042\n",
      "Epoch 10/10\n",
      "640/640 [==============================] - 0s 70us/step - loss: 0.5972 - binary_accuracy: 0.7156 - sensitivity: 1.0000 - specificity: 0.0000e+00 - gmeasure: 0.0000e+00 - auc: 0.5483 - val_loss: 0.5767 - val_binary_accuracy: 0.7375 - val_sensitivity: 1.0000 - val_specificity: 0.0000e+00 - val_gmeasure: 0.0000e+00 - val_auc: 0.4996\n"
     ]
    },
    {
     "name": "stderr",
     "output_type": "stream",
     "text": [
      "[root    |INFO|build_network.py:83] Load trained model weight at ./weight_1.h5 \n",
      "[root    |INFO|build_network.py:143] Training end with time 2.7756500244140625!\n",
      "[root    |INFO|build_network.py:79] Saved trained model weight at ./weight_1.h5 \n",
      "[root    |DEBUG|deepbiome.py:166] Save weight at ./weight_1.h5\n",
      "[root    |DEBUG|deepbiome.py:169] Save history at ./hist_1.json\n",
      "[root    |INFO|build_network.py:169] Evaluation start!\n"
     ]
    },
    {
     "name": "stdout",
     "output_type": "stream",
     "text": [
      "\r",
      "800/800 [==============================] - 0s 8us/step\n"
     ]
    },
    {
     "name": "stderr",
     "output_type": "stream",
     "text": [
      "[root    |INFO|build_network.py:174] Evaluation end with time 0.012213706970214844!\n",
      "[root    |INFO|build_network.py:175] Evaluation: [0.5944244861602783, 0.7200000286102295, 1.0, 0.0, 0.0, 0.508866548538208]\n",
      "[root    |INFO|build_network.py:169] Evaluation start!\n"
     ]
    },
    {
     "name": "stdout",
     "output_type": "stream",
     "text": [
      "\r",
      "200/200 [==============================] - 0s 27us/step\n"
     ]
    },
    {
     "name": "stderr",
     "output_type": "stream",
     "text": [
      "[root    |INFO|build_network.py:174] Evaluation end with time 0.010983943939208984!\n",
      "[root    |INFO|build_network.py:175] Evaluation: [0.5944291353225708, 0.7200000286102295, 1.0, 0.0, 0.0, 0.4608134925365448]\n",
      "[root    |INFO|deepbiome.py:180] Compute time : 3.853395462036133\n",
      "[root    |INFO|deepbiome.py:181] 2 fold computing end!---------------------------------------------\n",
      "[root    |INFO|deepbiome.py:184] -----------------------------------------------------------------\n",
      "[root    |INFO|deepbiome.py:186] Train Evaluation : ['loss' 'binary_accuracy' 'sensitivity' 'specificity' 'gmeasure' 'auc']\n",
      "[root    |INFO|deepbiome.py:189]       mean : [0.60822359 0.703125   1.         0.         0.         0.63443786]\n",
      "[root    |INFO|deepbiome.py:190]        std : [0.0137991  0.01687503 0.         0.         0.         0.12557131]\n",
      "[root    |INFO|deepbiome.py:191] -----------------------------------------------------------------\n",
      "[root    |INFO|deepbiome.py:193] Test Evaluation : ['loss' 'binary_accuracy' 'sensitivity' 'specificity' 'gmeasure' 'auc']\n",
      "[root    |INFO|deepbiome.py:196]       mean : [0.6067645  0.70500001 1.         0.         0.         0.60166667]\n",
      "[root    |INFO|deepbiome.py:197]        std : [0.01233536 0.01500002 0.         0.         0.         0.14085318]\n",
      "[root    |INFO|deepbiome.py:198] -----------------------------------------------------------------\n",
      "[root    |INFO|deepbiome.py:207] Total Computing Ended\n",
      "[root    |INFO|deepbiome.py:208] -----------------------------------------------------------------\n"
     ]
    }
   ],
   "source": [
    "from deepbiome import deepbiome\n",
    "\n",
    "test_evaluation, train_evaluation, network = deepbiome.deepbiome_train(log, network_info, path_info, number_of_fold=2)"
   ]
  }
 ],
 "metadata": {
  "kernelspec": {
   "display_name": "Python 3.5",
   "language": "python",
   "name": "python3"
  },
  "language_info": {
   "codemirror_mode": {
    "name": "ipython",
    "version": 3
   },
   "file_extension": ".py",
   "mimetype": "text/x-python",
   "name": "python",
   "nbconvert_exporter": "python",
   "pygments_lexer": "ipython3",
   "version": "3.5.2"
  }
 },
 "nbformat": 4,
 "nbformat_minor": 2
}
